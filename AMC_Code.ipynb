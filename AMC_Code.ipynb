{
 "cells": [
  {
   "cell_type": "markdown",
   "id": "5db1eed0",
   "metadata": {},
   "source": [
    "# Documentation "
   ]
  },
  {
   "cell_type": "markdown",
   "id": "ca9e9daa",
   "metadata": {},
   "source": [
    "## Business Problem"
   ]
  },
  {
   "cell_type": "markdown",
   "id": "dd678625",
   "metadata": {},
   "source": [
    "Data collection from top journals for text mining on article title and abstracts."
   ]
  },
  {
   "cell_type": "markdown",
   "id": "6f3fdc0c",
   "metadata": {},
   "source": [
    "**NOTE:** For more information about location of raw data files, result data files, please refer comments and the *Documentation.pdf*"
   ]
  },
  {
   "cell_type": "code",
   "execution_count": 4,
   "id": "ecffcfbc",
   "metadata": {},
   "outputs": [],
   "source": [
    "# Importing required libraries for the code\n",
    "import pandas as pd\n",
    "import numpy as np\n",
    "import matplotlib.pyplot as plt\n",
    "import math\n",
    "import seaborn as sb"
   ]
  },
  {
   "cell_type": "markdown",
   "id": "a1881177",
   "metadata": {},
   "source": [
    "### 1. Extracting journals according to SJR rank"
   ]
  },
  {
   "cell_type": "markdown",
   "id": "2f097113",
   "metadata": {},
   "source": [
    "Extracted top 25 journals (by SJR rank) for 6 fields: (Medicine, Health Policy, Pharmacy, Multidisciplinary, Nursing, Biochemistry.\n"
   ]
  },
  {
   "cell_type": "markdown",
   "id": "2084d0ed",
   "metadata": {},
   "source": [
    "##### Relevant links to download data files\n",
    " Medicine: https://nam12.safelinks.protection.outlook.com/?url=https%3A%2F%2Fwww.scimagojr.com%2Fjournalrank.php%3Fcategory%3D2701&data=05%7C01%7Cbkashyap1%40student.gsu.edu%7C0fb72741243e4620371408da929aad4a%7C704d822c358a47849a1649e20b75f941%7C0%7C0%7C637983490287354968%7CUnknown%7CTWFpbGZsb3d8eyJWIjoiMC4wLjAwMDAiLCJQIjoiV2luMzIiLCJBTiI6Ik1haWwiLCJXVCI6Mn0%3D%7C3000%7C%7C%7C&sdata=rW8cmhK%2FhT2P6Pw89C8YjZRmEGYfTeaSLLKyORDXN74%3D&reserved=0\n",
    " \n",
    " Health policy: https://nam12.safelinks.protection.outlook.com/?url=https%3A%2F%2Fwww.scimagojr.com%2Fjournalrank.php%3Fcategory%3D2719&data=05%7C01%7Cbkashyap1%40student.gsu.edu%7C0fb72741243e4620371408da929aad4a%7C704d822c358a47849a1649e20b75f941%7C0%7C0%7C637983490287511206%7CUnknown%7CTWFpbGZsb3d8eyJWIjoiMC4wLjAwMDAiLCJQIjoiV2luMzIiLCJBTiI6Ik1haWwiLCJXVCI6Mn0%3D%7C3000%7C%7C%7C&sdata=Jw5fZJu6taC8Y23jVy84zb9AJiefGzraIMQmJ21QUxw%3D&reserved=0\n",
    " \n",
    " Pharmacy: https://www.scimagojr.com/journalrank.php?area=3000 \n",
    " \n",
    " Nursing: https://www.scimagojr.com/journalrank.php?category=2901 \n",
    " \n",
    " Biochemistry, genetics, molecular biology: https://www.scimagojr.com/journalrank.php?area=1300 \n",
    " \n",
    " Multidisciplinary: https://www.scimagojr.com/journalrank.php?area=1000 \n",
    " \n",
    " **Note**: The data files are already downloaded kindly refer documentation point 1 for its location."
   ]
  },
  {
   "cell_type": "code",
   "execution_count": 5,
   "id": "5685f58d",
   "metadata": {},
   "outputs": [],
   "source": [
    "med = pd.read_csv('Journals/Medicine.csv').loc[:24, [\"Rank\",\"Title\"]]\n",
    "bio = pd.read_csv('Journals/Biochemistry.csv').loc[:24, [\"Rank\",\"Title\"]]\n",
    "pharm = pd.read_csv('Journals/Pharmacy.csv').loc[:24, [\"Rank\",\"Title\"]]\n",
    "healthp = pd.read_csv('Journals/HealthPolicy.csv').loc[:24, [\"Rank\",\"Title\"]]\n",
    "nurse = pd.read_csv('Journals/Nursing.csv').loc[:24, [\"Rank\",\"Title\"]].loc[:24, [\"Rank\",\"Title\"]]\n",
    "multi = pd.read_csv('Journals/Multidisciplinary.csv').loc[:24, [\"Rank\",\"Title\"]]"
   ]
  },
  {
   "cell_type": "markdown",
   "id": "4d669c5e",
   "metadata": {},
   "source": [
    "##### Extracting journal titles"
   ]
  },
  {
   "cell_type": "code",
   "execution_count": 6,
   "id": "3a774d49",
   "metadata": {},
   "outputs": [
    {
     "data": {
      "text/html": [
       "<div>\n",
       "<style scoped>\n",
       "    .dataframe tbody tr th:only-of-type {\n",
       "        vertical-align: middle;\n",
       "    }\n",
       "\n",
       "    .dataframe tbody tr th {\n",
       "        vertical-align: top;\n",
       "    }\n",
       "\n",
       "    .dataframe thead th {\n",
       "        text-align: right;\n",
       "    }\n",
       "</style>\n",
       "<table border=\"1\" class=\"dataframe\">\n",
       "  <thead>\n",
       "    <tr style=\"text-align: right;\">\n",
       "      <th></th>\n",
       "      <th>Title</th>\n",
       "    </tr>\n",
       "  </thead>\n",
       "  <tbody>\n",
       "    <tr>\n",
       "      <th>0</th>\n",
       "      <td>MMWR Recommendations and Reports</td>\n",
       "    </tr>\n",
       "    <tr>\n",
       "      <th>1</th>\n",
       "      <td>New England Journal of Medicine</td>\n",
       "    </tr>\n",
       "    <tr>\n",
       "      <th>2</th>\n",
       "      <td>Nature Medicine</td>\n",
       "    </tr>\n",
       "    <tr>\n",
       "      <th>3</th>\n",
       "      <td>Nature Reviews Immunology</td>\n",
       "    </tr>\n",
       "    <tr>\n",
       "      <th>4</th>\n",
       "      <td>Morbidity and Mortality Weekly Report</td>\n",
       "    </tr>\n",
       "    <tr>\n",
       "      <th>...</th>\n",
       "      <td>...</td>\n",
       "    </tr>\n",
       "    <tr>\n",
       "      <th>140</th>\n",
       "      <td>Journal of Professional Nursing</td>\n",
       "    </tr>\n",
       "    <tr>\n",
       "      <th>141</th>\n",
       "      <td>Journal of Transcultural Nursing</td>\n",
       "    </tr>\n",
       "    <tr>\n",
       "      <th>142</th>\n",
       "      <td>Journal of Nursing Education</td>\n",
       "    </tr>\n",
       "    <tr>\n",
       "      <th>143</th>\n",
       "      <td>BMC Nursing</td>\n",
       "    </tr>\n",
       "    <tr>\n",
       "      <th>144</th>\n",
       "      <td>Journal of Multidisciplinary Healthcare</td>\n",
       "    </tr>\n",
       "  </tbody>\n",
       "</table>\n",
       "<p>145 rows × 1 columns</p>\n",
       "</div>"
      ],
      "text/plain": [
       "                                       Title\n",
       "0           MMWR Recommendations and Reports\n",
       "1            New England Journal of Medicine\n",
       "2                            Nature Medicine\n",
       "3                  Nature Reviews Immunology\n",
       "4      Morbidity and Mortality Weekly Report\n",
       "..                                       ...\n",
       "140          Journal of Professional Nursing\n",
       "141         Journal of Transcultural Nursing\n",
       "142             Journal of Nursing Education\n",
       "143                              BMC Nursing\n",
       "144  Journal of Multidisciplinary Healthcare\n",
       "\n",
       "[145 rows x 1 columns]"
      ]
     },
     "execution_count": 6,
     "metadata": {},
     "output_type": "execute_result"
    }
   ],
   "source": [
    "#filtering out only the titles of the journals\n",
    "med_titles = med.loc[: , [\"Title\"]]\n",
    "bio_titles = bio.loc[: , [\"Title\"]]\n",
    "pharm_titles = pharm.loc[: , [\"Title\"]]\n",
    "healthp_titles = healthp.loc[: , [\"Title\"]]\n",
    "multi_titles = multi.loc[: , [\"Title\"]]\n",
    "nurse_titles = nurse.loc[: , [\"Title\"]]\n",
    "\n",
    "all_titles = pd.concat([med_titles, bio_titles, pharm_titles, healthp_titles, multi_titles, nurse_titles], axis=0)\n",
    "#total 150 journals filtered i.e. 25 from each category\n",
    "all_titles\n",
    "#dropping the duplicates gives us 145 unique values of journals\n",
    "all_titles = all_titles.drop_duplicates().reset_index(drop=True)\n",
    "\n",
    "#list of relevant journals after removing duplicates\n",
    "all_titles"
   ]
  },
  {
   "cell_type": "code",
   "execution_count": 7,
   "id": "ce3fff3f",
   "metadata": {},
   "outputs": [],
   "source": [
    "# Creating a journals.csv file for future use/ quicker access to above extracted journal names\n",
    "all_titles.to_csv('Journals/journals.csv', index=False)"
   ]
  },
  {
   "cell_type": "markdown",
   "id": "c015e8a2",
   "metadata": {},
   "source": [
    "**Note**: The above file has already been created, please refer point 1 in documentation for its location."
   ]
  },
  {
   "cell_type": "markdown",
   "id": "862b8269",
   "metadata": {},
   "source": [
    "### 2. Creating WOS advanced query"
   ]
  },
  {
   "cell_type": "markdown",
   "id": "3ba21bc3",
   "metadata": {},
   "source": [
    "Creating Web of Science advanced query using the extracted journal names"
   ]
  },
  {
   "cell_type": "code",
   "execution_count": 8,
   "id": "076c8fae",
   "metadata": {},
   "outputs": [],
   "source": [
    "all_titles = all_titles.squeeze()\n",
    "query = \"(\"\n",
    "for i in all_titles:\n",
    "    query = query + i.upper() + \" OR \"\n",
    "query = query[:len(query)-4] + \")\"\n",
    "\n",
    "# print(query)"
   ]
  },
  {
   "cell_type": "markdown",
   "id": "dece1e42",
   "metadata": {},
   "source": [
    "Final query: SO = (MMWR RECOMMENDATIONS AND REPORTS OR NEW ENGLAND JOURNAL OF MEDICINE OR NATURE MEDICINE OR NATURE REVIEWS IMMUNOLOGY OR MORBIDITY AND MORTALITY WEEKLY REPORT OR LANCET OR PHYSIOLOGICAL REVIEWS OR NATURE REVIEWS DRUG DISCOVERY OR ANNUAL REVIEW OF PATHOLOGY: MECHANISMS OF DISEASE OR JOURNAL OF CLINICAL ONCOLOGY OR LANCET GLOBAL HEALTH OR ANNALS OF ONCOLOGY OR ANNUAL REVIEW OF PUBLIC HEALTH OR NATURE REVIEWS DISEASE PRIMERS OR ACCOUNTS OF CHEMICAL RESEARCH OR ANNUAL REVIEW OF CLINICAL PSYCHOLOGY OR JOURNAL OF EXPERIMENTAL MEDICINE OR MOLECULAR SYSTEMS BIOLOGY OR ANNUAL REVIEW OF MICROBIOLOGY OR JAMA - JOURNAL OF THE AMERICAN MEDICAL ASSOCIATION OR LANCET DIGITAL HEALTH OR REPORTS ON PROGRESS IN PHYSICS OR NATURE BIOMEDICAL ENGINEERING OR EMBO JOURNAL OR JAMA PSYCHIATRY OR NATURE REVIEWS MOLECULAR CELL BIOLOGY OR CELL OR NATURE REVIEWS GENETICS OR NATURE BIOTECHNOLOGY OR NATURE REVIEWS CANCER OR NATURE GENETICS OR ANNUAL REVIEW OF BIOCHEMISTRY OR NATURE CATALYSIS OR NATURE METHODS OR CANCER CELL OR MOLECULAR CELL OR NATURE CELL BIOLOGY OR LANCET DIABETES AND ENDOCRINOLOGY OR NATURE MICROBIOLOGY OR ANNUAL REVIEW OF PLANT BIOLOGY OR ANNUAL REVIEW OF GENETICS OR CELL HOST AND MICROBE OR GENOME BIOLOGY OR CELL METABOLISM OR NATURE REVIEWS ENDOCRINOLOGY OR NATURE STRUCTURAL AND MOLECULAR BIOLOGY OR NUCLEIC ACIDS RESEARCH OR PHARMACOLOGICAL REVIEWS OR ANNUAL REVIEW OF PHARMACOLOGY AND TOXICOLOGY OR NANO TODAY OR DRUG RESISTANCE UPDATES OR JOURNAL FOR IMMUNOTHERAPY OF CANCER OR TRENDS IN PHARMACOLOGICAL SCIENCES OR EMERGING MICROBES AND INFECTIONS OR PHARMACOLOGY AND THERAPEUTICS OR MOLECULAR THERAPY OR NPJ VACCINES OR ADVANCED DRUG DELIVERY REVIEWS OR NATURAL PRODUCT REPORTS OR CELL CHEMICAL BIOLOGY OR PROTEIN AND CELL OR CELLULAR AND MOLECULAR LIFE SCIENCES OR MEDICINAL RESEARCH REVIEWS OR NEUROPSYCHOPHARMACOLOGY OR ANTIVIRAL RESEARCH OR ACTA PHARMACEUTICA SINICA B OR PAIN OR THERANOSTICS OR ADVANCED HEALTHCARE MATERIALS OR BRITISH JOURNAL OF PHARMACOLOGY OR ENVIRONMENTAL POLLUTION OR ALZHEIMER'S AND DEMENTIA OR HEALTH AFFAIRS OR LANCET PLANETARY HEALTH OR IMPLEMENTATION SCIENCE OR INFECTIOUS DISEASE MODELLING OR BMJ GLOBAL HEALTH OR GLOBALIZATION AND HEALTH OR JOURNAL OF HEALTH ECONOMICS OR JOURNAL OF THE AMERICAN MEDICAL DIRECTORS ASSOCIATION OR MILBANK QUARTERLY OR EUROPEAN HEART JOURNAL. QUALITY OF CARE &AMP, CLINICAL OUTCOMES OR BMJ QUALITY AND SAFETY OR HEALTH SERVICES RESEARCH OR MEDICAL CARE RESEARCH AND REVIEW OR VALUE IN HEALTH OR POLICY AND INTERNET OR INTERNATIONAL JOURNAL OF DRUG POLICY OR INTERNATIONAL JOURNAL FOR EQUITY IN HEALTH OR JOURNAL OF GLOBAL HEALTH OR PHARMACOECONOMICS OR HEALTH RESEARCH POLICY AND SYSTEMS OR GLOBAL HEALTH RESEARCH AND POLICY OR INTERNATIONAL JOURNAL OF TRANSGENDER HEALTH OR JCO ONCOLOGY PRACTICE OR PREVENTING CHRONIC DISEASE OR NATURE OR SCIENCE OR SCIENCE ADVANCES OR PROCEEDINGS OF THE NATIONAL ACADEMY OF SCIENCES OF THE UNITED STATES OF AMERICA OR NATIONAL SCIENCE REVIEW OR SCIENCE BULLETIN OR RESEARCH OR JOURNAL OF ADVANCED RESEARCH OR ISCIENCE OR SCIENTIFIC REPORTS OR TSINGHUA SCIENCE AND TECHNOLOGY OR PROCEEDINGS OF THE JAPAN ACADEMY SERIES B: PHYSICAL AND BIOLOGICAL SCIENCES OR ADVANCED THEORY AND SIMULATIONS OR PROGRESS IN NATURAL SCIENCE: MATERIALS INTERNATIONAL OR PLOS ONE OR SCIENCE AND TECHNOLOGY STUDIES OR ROYAL SOCIETY OPEN SCIENCE OR RESEARCH IN SCIENCE AND TECHNOLOGICAL EDUCATION OR INTERNATIONAL JOURNAL OF BIFURCATION AND CHAOS IN APPLIED SCIENCES AND ENGINEERING OR LATIN AMERICAN RESEARCH REVIEW OR FRACTALS OR FACETS OR HELIYON OR JOURNAL OF KING SAUD UNIVERSITY - SCIENCE OR ARABIAN JOURNAL FOR SCIENCE AND ENGINEERING OR CLINICAL AND TRANSLATIONAL IMMUNOLOGY OR JOURNAL OF PAIN AND SYMPTOM MANAGEMENT OR INTERNATIONAL JOURNAL OF NURSING STUDIES OR NURSE EDUCATION TODAY OR JOURNAL OF NURSING SCHOLARSHIP OR JOURNAL OF PALLIATIVE MEDICINE OR PATIENT OR CLINICAL SIMULATION IN NURSING OR INTERNATIONAL NURSING REVIEW OR JOURNAL OF CLINICAL NURSING OR WORLDVIEWS ON EVIDENCE-BASED NURSING OR NURSE EDUCATION IN PRACTICE OR JOURNAL OF ADVANCED NURSING OR JOURNAL OF SCHOOL NURSING OR JOURNAL OF RELIGION AND HEALTH OR INTERNATIONAL JOURNAL OF NURSING SCIENCES OR NURSING OUTLOOK OR PALLIATIVE AND SUPPORTIVE CARE OR SYMBOLIC INTERACTION OR JOURNAL OF PROFESSIONAL NURSING OR JOURNAL OF TRANSCULTURAL NURSING OR JOURNAL OF NURSING EDUCATION OR BMC NURSING OR JOURNAL OF MULTIDISCIPLINARY HEALTHCARE) and EMORY UNIVERSITY or EMORY WINSHIP CANC INST or EMORY PALLIAT CARE CTR or EMORY CLIN CARDIOVASC RES INST or EMORY UNIV HOSP MIDTOWN or EMORY CHILDRENS CTR or EMORY CHILDRENS CYST FIBROSIS CTR or EMORY UNIV or EMORY UGA CTR EXCELLENCE INFLUENZA RES SURVEILL or EMORY UNIV WINSHIP CANC INST or EMORY ANTIBIOT RESISTANCE CTR or EMORY HENRY COLL or EMORY WOODRUFF HLTH SCI CTR or EMORY EYE CTR or EMORY GLOBAL HLTH INST or EMORY CRAWFORD LONG HOSP or EMORY CHILDRENS CTR CHILDHOOD INFECT VACCINES or EMORY COLL ARTS SCI or EMORY CRIT CARE CTR or EMORY CTR HLTH AGING or EMORY ETHIOPIA AMHARA REG OFF or EMORY ETHIOPIA COUNTRY OFF or EMORY HEALTHCARE NETWORK or EMORY HLTH CARE or EMORY MED SCH or EMORY ATLANTA CTR AIDS RES or EMORY BIOMARKER SERV CTR or EMORY BRAIN HLTH CTR or EMORY CHILDRENS CTR CYST FIBROSIS AIRWAY DIS RE or EMORY CLIN INC or EMORY CTR ETH or EMORY CTR OUTCOMES RES or EMORY DEPT NEUROL or EMORY DEPT PEDIAT or EMORY DRIVE or EMORY GOIZUETA BUSINESS SCH or EMORY HEALTHCARE INNOVAT HUB or EMORY HEALTHCARE ST JOSEPHS HOSP or EMORY HEART CTR or EMORY HEART VASC CTR or EMORY HOSP or EMORY HOSP MIDTOWN or EMORY INTEGRATED CELLULAR IMAGING or EMORY JOHNS CREEK or EMORY JOHNS CREEK HOSP or EMORY JOHNS CREEK OB GYN or EMORY MED CTR or EMORY NELL HODGSON SCH NURSING or EMORY NELL HODGSON WOODRUFF SCH NURSING or EMORY ORTHOPAED SPINE CTR or EMORY PALLIT CARE CTR or EMORY RIVER LAND CO or EMORY ST JOSEPHS HOSP or EMORY UGA CEIRS or EMORY UNIV ETHIOPIA or EMORY UNIV HERBARIUM or EMORY UNIV MED or EMORY UNIV MED SCH or EMORY UNIV NELL HODGSON WOODRUFF or EMORY UNIVER or EMORY UNIVNA or EMORY UNVERS or EMORY VACCINE RES CTR or EMORY WALLACE H COULTER DEPT BIOMED ENGN or EMORY WINSHIP or EMORY WOMENS HEART CTR or EMORYS NELL HODGSON WOODRUFF SCH NURSING or EMORYWOOD HEM ONC or UNIVERSITY OF NORTH CAROLINA or UNIVERSITY OF NORTH CAROLINA CHAPEL HILL or UNIVERSITY OF NORTH CAROLINA SCHOOL OF MEDICINE or UNIVERSITY OF NORTH CAROLINA CHARLOTTE or UNIVERSITY OF NORTH CAROLINA GREENSBORO or UNIVERSITY OF NORTH CAROLINA WILMINGTON or UNIVERSITY OF NORTH CAROLINA ASHEVILLE (Affiliations) and 2022 or 2021 or 2020 or 2019 or 2018 (Publication Years)"
   ]
  },
  {
   "cell_type": "markdown",
   "id": "d35dbe17",
   "metadata": {},
   "source": [
    "### 3. Exploratory Data Analysis"
   ]
  },
  {
   "cell_type": "markdown",
   "id": "5aa1ee8d",
   "metadata": {},
   "source": [
    "Performing exploratory data analysis on sample data using above extracted journals, for publication years 2018-2022, and for Universities of North Carolina and Georgia and their affiliates."
   ]
  },
  {
   "cell_type": "markdown",
   "id": "1cad9a5a",
   "metadata": {},
   "source": [
    "**NOTE:** Please refer point 2 in documentation for location of below file."
   ]
  },
  {
   "cell_type": "code",
   "execution_count": 9,
   "id": "4e5a9051",
   "metadata": {},
   "outputs": [],
   "source": [
    "#importing data and determining its shape (Data: For UNC and affiliates)\n",
    "df_unc = pd.read_csv(\"EDA/uncdata.csv\")"
   ]
  },
  {
   "cell_type": "code",
   "execution_count": 10,
   "id": "0b6b0ad4",
   "metadata": {},
   "outputs": [
    {
     "name": "stdout",
     "output_type": "stream",
     "text": [
      "Data types of attributes:\n",
      "Publication Type ----> object\n",
      "Authors ----> object\n",
      "Book Authors ----> float64\n",
      "Book Editors ----> object\n",
      "Book Group Authors ----> float64\n",
      "Author Full Names ----> object\n",
      "Book Author Full Names ----> float64\n",
      "Group Authors ----> object\n",
      "Article Title ----> object\n",
      "Source Title ----> object\n",
      "Book Series Title ----> object\n",
      "Book Series Subtitle ----> float64\n",
      "Language ----> object\n",
      "Document Type ----> object\n",
      "Conference Title ----> object\n",
      "Conference Date ----> object\n",
      "Conference Location ----> object\n",
      "Conference Sponsor ----> object\n",
      "Conference Host ----> float64\n",
      "Author Keywords ----> object\n",
      "Keywords Plus ----> object\n",
      "Abstract ----> object\n",
      "Addresses ----> object\n",
      "Affiliations ----> float64\n",
      "Reprint Addresses ----> object\n",
      "Email Addresses ----> object\n",
      "Researcher Ids ----> object\n",
      "ORCIDs ----> object\n",
      "Funding Orgs ----> object\n",
      "Funding Name Preferred ----> object\n",
      "Funding Text ----> object\n",
      "Cited References ----> float64\n",
      "Cited Reference Count ----> int64\n",
      "Times Cited, WoS Core ----> int64\n",
      "Times Cited, All Databases ----> int64\n",
      "180 Day Usage Count ----> int64\n",
      "Since 2013 Usage Count ----> int64\n",
      "Publisher ----> object\n",
      "Publisher City ----> object\n",
      "Publisher Address ----> object\n",
      "ISSN ----> object\n",
      "eISSN ----> object\n",
      "ISBN ----> object\n",
      "Journal Abbreviation ----> object\n",
      "Journal ISO Abbreviation ----> object\n",
      "Publication Date ----> object\n",
      "Publication Year ----> float64\n",
      "Volume ----> object\n",
      "Issue ----> object\n",
      "Part Number ----> object\n",
      "Supplement ----> object\n",
      "Special Issue ----> object\n",
      "Meeting Abstract ----> object\n",
      "Start Page ----> object\n",
      "End Page ----> object\n",
      "Article Number ----> object\n",
      "DOI ----> object\n",
      "DOI Link ----> float64\n",
      "Book DOI ----> float64\n",
      "Early Access Date ----> object\n",
      "Number of Pages ----> int64\n",
      "WoS Categories ----> object\n",
      "Web of Science Index ----> object\n",
      "Research Areas ----> object\n",
      "IDS Number ----> object\n",
      "Pubmed Id ----> float64\n",
      "Open Access Designations ----> object\n",
      "Highly Cited Status ----> object\n",
      "Hot Paper Status ----> object\n",
      "Date of Export ----> object\n",
      "UT (Unique WOS ID) ----> object\n",
      "Web of Science Record ----> int64\n"
     ]
    }
   ],
   "source": [
    "# EDA - Type of data\n",
    "a = dict(df_unc.dtypes)\n",
    "print('Data types of attributes:')\n",
    "for i in a:\n",
    "    print(i,'---->',a[i])"
   ]
  },
  {
   "cell_type": "code",
   "execution_count": 11,
   "id": "c6b9f738",
   "metadata": {},
   "outputs": [
    {
     "data": {
      "text/plain": [
       "<AxesSubplot:xlabel='Publication Year', ylabel='count'>"
      ]
     },
     "execution_count": 11,
     "metadata": {},
     "output_type": "execute_result"
    },
    {
     "data": {
      "image/png": "[encoded data removed]",
      "text/plain": [
       "<Figure size 432x288 with 1 Axes>"
      ]
     },
     "metadata": {
      "needs_background": "light"
     },
     "output_type": "display_data"
    }
   ],
   "source": [
    "# EDA - Number of publications done in a year (Data: For UNC and affiliates)\n",
    "d = pd.DataFrame(df_unc, columns=['Publication Year'])\n",
    "d = d[d['Publication Year'].notna()]\n",
    "d = d.astype(int) #Publication year is given in float so converted that to int\n",
    "sb.countplot(x=d['Publication Year'])"
   ]
  },
  {
   "cell_type": "code",
   "execution_count": 16,
   "id": "c396c9d2",
   "metadata": {},
   "outputs": [
    {
     "name": "stdout",
     "output_type": "stream",
     "text": [
      "PLOS ONE                                                                           724\n",
      "SCIENTIFIC REPORTS                                                                 615\n",
      "JOURNAL OF CLINICAL ONCOLOGY                                                       522\n",
      "PROCEEDINGS OF THE NATIONAL ACADEMY OF SCIENCES OF THE UNITED STATES OF AMERICA    286\n",
      "MOLECULAR THERAPY                                                                  156\n",
      "                                                                                  ... \n",
      "BMC NURSING                                                                          1\n",
      "RESEARCH                                                                             1\n",
      "ANNUAL REVIEW OF PHARMACOLOGY AND TOXICOLOGY                                         1\n",
      "ANNUAL REVIEW OF PLANT BIOLOGY, VOL 72, 2021                                         1\n",
      "ANNUAL REVIEW OF PLANT BIOLOGY, VOL 69                                               1\n",
      "Name: Source Title, Length: 130, dtype: int64\n",
      "\n",
      "Most publications in journal:  PLOS ONE\n"
     ]
    }
   ],
   "source": [
    "# EDA - Number of publications associated with a particular journal (Data: For UNC and affiliates)\n",
    "print(df_unc['Source Title'].value_counts())\n",
    "\n",
    "print('\\nMost publications in journal: ',df_unc['Source Title'].mode()[0]) #The journal that has the most publications"
   ]
  },
  {
   "cell_type": "code",
   "execution_count": 17,
   "id": "36f8fe7d",
   "metadata": {},
   "outputs": [
    {
     "name": "stdout",
     "output_type": "stream",
     "text": [
      "Article title:  Global, regional, and national incidence, prevalence, and years lived with disability for 354 diseases and injuries for 195 countries and territories, 1990-2017: a systematic analysis for the Global Burden of Disease Study 2017 \n",
      "\n",
      "Abstract:  Background The Global Burden of Diseases, Injuries, and Risk Factors Study 2017 (GBD 2017) includes a comprehensive assessment of incidence, prevalence, and years lived with disability (YLDs) for 354 causes in 195 countries and territories from 1990 to 2017. Previous GBD studies have shown how the decline of mortality rates from 1990 to 2016 has led to an increase in life expectancy, an ageing global population, and an expansion of the non-fatal burden of disease and injury. These studies have also shown how a substantial portion of the world's population experiences non-fatal health loss with considerable heterogeneity among different causes, locations, ages, and sexes. Ongoing objectives of the GBD study include increasing the level of estimation detail, improving analytical strategies, and increasing the amount of high-quality data. Methods We estimated incidence and prevalence for 354 diseases and injuries and 3484 sequelae. We used an updated and extensive body of literature studies, survey data, surveillance data, inpatient admission records, outpatient visit records, and health insurance claims, and additionally used results from cause of death models to inform estimates using a total of 68 781 data sources. Newly available clinical data from India, Iran, Japan, Jordan, Nepal, China, Brazil, Norway, and Italy were incorporated, as well as updated claims data from the USA and new claims data from Taiwan (province of China) and Singapore. We used DisMod-MR 2.1, a Bayesian meta-regression tool, as the main method of estimation, ensuring consistency between rates of incidence, prevalence, remission, and cause of death for each condition. YLDs were estimated as the product of a prevalence estimate and a disability weight for health states of each mutually exclusive sequela, adjusted for comorbidity. We updated the Socio-demographic Index (SDI), a summary development indicator of income per capita, years of schooling, and total fertility rate. Additionally, we calculated differences between male and female YLDs to identify divergent trends across sexes. GBD 2017 complies with the Guidelines for Accurate and Transparent Health Estimates Reporting. Findings Globally, for females, the causes with the greatest age-standardised prevalence were oral disorders, headache disorders, and haemoglobinopathies and haemolytic anaemias in both 1990 and 2017. For males, the causes with the greatest age-standardised prevalence were oral disorders, headache disorders, and tuberculosis including latent tuberculosis infection in both 1990 and 2017. In terms of YLDs, low back pain, headache disorders, and dietary iron deficiency were the leading Level 3 causes of YLD counts in 1990, whereas low back pain, headache disorders, and depressive disorders were the leading causes in 2017 for both sexes combined. All-cause age-standardised YLD rates decreased by 39% (95% uncertainty interval [UI] 3.1-4. 6) from 1990 to 2017; however, the all-age YLD rate increased by 7.2% (6.0-8.4) while the total sum of global YLDs increased from 562 million (421-723) to 853 million (642-1100). The increases for males and females were similar, with increases in all-age YLD rates of 7.9% (6 6-9. 2) for males and 6.5% (5.4-7.7) for females. We found significant differences between males and females in terms of age-standardised prevalence estimates for multiple causes. The causes with the greatest relative differences between sexes in 2017 included substance use disorders (3018 cases [95% UI 2782-3252] per 100 000 in males vs 1400 [1279-1524] per 100 000 in females), transport injuries (3322 [3082-3583] vs 2336 [2154-2535]), and self-hatin and interpersonal violence (3265 [2943-3630] vs 5643 [5057-6302]). Interpretation Global all-cause age-standardised YLD rates have improved only slightly over a period spanning nearly three decades. However, the magnitude of the non-fatal disease burden has expanded globally, with increasing numbers of people who have a wide spectrum of conditions. A subset of conditions has remained globally pervasive since 1990, whereas other conditions have displayed more dynamic trends, with different ages, sexes, and geographies across the globe experiencing varying burdens and trends of health loss. This study emphasises how global improvements in premature mortality for select conditions have led to older populations with complex and potentially expensive diseases, yet also highlights global achievements in certain domains of disease and injury. Copyright (C) 2018 The Author(s). Published by Elsevier Ltd. \n",
      "\n"
     ]
    }
   ],
   "source": [
    "# EDA - The publication most cited in all databases (Data: For UNC and affiliates)\n",
    "z = pd.DataFrame(df_unc[df_unc['Times Cited, All Databases'] == df_unc['Times Cited, All Databases'].max()]).reset_index()\n",
    "\n",
    "print(\"Article title: \",z['Article Title'][0], \"\\n\")\n",
    "print(\"Abstract: \",z['Abstract'][0], \"\\n\")"
   ]
  },
  {
   "cell_type": "markdown",
   "id": "566374ec",
   "metadata": {},
   "source": [
    "**NOTE:** Please refer point 2 in documentation for location of below file."
   ]
  },
  {
   "cell_type": "code",
   "execution_count": 18,
   "id": "87cdcef1",
   "metadata": {},
   "outputs": [],
   "source": [
    "#importing data and determining its shape (Data: For universities of Georgia)\n",
    "df_georgia = pd.read_csv(\"EDA/georgiadata.csv\")"
   ]
  },
  {
   "cell_type": "code",
   "execution_count": 19,
   "id": "81438b3c",
   "metadata": {},
   "outputs": [
    {
     "name": "stdout",
     "output_type": "stream",
     "text": [
      "                                        Affiliations  Count\n",
      "0                                 Augusta University    374\n",
      "1                                  Morehouse College      3\n",
      "2                                   Emory University   3260\n",
      "3                                  Mercer University     58\n",
      "4       Philadelphia College of Osteopathic Medicine      0\n",
      "5   Medical College of Georgia at Augusta University      0\n",
      "6                       Morehouse School of Medicine     99\n",
      "7                Emory University School of Medicine      0\n",
      "8               Mercer University School of Medicine      0\n",
      "9  Philadelphia College of Osteopathic Medicine -...      0\n"
     ]
    },
    {
     "data": {
      "text/plain": [
       "<BarContainer object of 10 artists>"
      ]
     },
     "execution_count": 19,
     "metadata": {},
     "output_type": "execute_result"
    },
    {
     "data": {
      "image/png": "[encoded data removed]",
      "text/plain": [
       "<Figure size 1080x360 with 1 Axes>"
      ]
     },
     "metadata": {
      "needs_background": "light"
     },
     "output_type": "display_data"
    }
   ],
   "source": [
    "#find out if the mentioned college is in the list of affiliations\n",
    "uaff = ['Augusta University', 'Morehouse College', 'Emory University', 'Mercer University', 'Philadelphia College of Osteopathic Medicine']\n",
    "u = {'Augusta University' : 0, 'Morehouse College' : 0, 'Emory University' : 0, 'Mercer University' : 0, 'Philadelphia College of Osteopathic Medicine' : 0}\n",
    "mcaff = ['Medical College of Georgia at Augusta University', 'Morehouse School of Medicine', 'Emory University School of Medicine', 'Mercer University School of Medicine', 'Philadelphia College of Osteopathic Medicine - Georgia Campus']\n",
    "mc = {'Medical College of Georgia at Augusta University' : 0, 'Morehouse School of Medicine' : 0, 'Emory University School of Medicine' : 0, 'Mercer University School of Medicine' : 0, 'Philadelphia College of Osteopathic Medicine - Georgia Campus' : 0}\n",
    "#create dictionaries for the number of times the college is in the affiliations list\n",
    "for i in df_georgia.Affiliations:\n",
    "    for j in uaff:\n",
    "        if j in i:\n",
    "            u[j] = u[j] + 1            \n",
    "    for k in mc:\n",
    "        if k in i:\n",
    "            mc[k] = mc[k] + 1\n",
    "#print(u, mc)\n",
    "#create dataframes of above created dictionaries\n",
    "university = pd.DataFrame(u, index = ['Count']).transpose()\n",
    "medical_college = pd.DataFrame(mc, index=['Count']).transpose()\n",
    "affiliations = pd.concat([university, medical_college])\n",
    "a = affiliations.reset_index().rename(columns={'index': 'Affiliations'})\n",
    "print(a)\n",
    "#creating plot (Data: For universities of Georgia)\n",
    "fig = plt.figure(figsize = (15, 5))\n",
    "plt.xticks(rotation = 90)\n",
    "plt.xlabel('Number of publications')\n",
    "plt.ylabel('Academic Medical Centers in State of Georgia')\n",
    "plt.barh(a.Affiliations, a.Count)"
   ]
  },
  {
   "cell_type": "markdown",
   "id": "856cfcf0",
   "metadata": {},
   "source": [
    "##### Feature engineering"
   ]
  },
  {
   "cell_type": "code",
   "execution_count": 20,
   "id": "e512d45b",
   "metadata": {},
   "outputs": [],
   "source": [
    "# Creating a column that depicts if the publisher address is in USA (Data: For universities of Georgia)\n",
    "d = df_georgia.rename(columns={'Publisher Address': 'PubAdd'})\n",
    "usa = []\n",
    "for i in range(len(d)):\n",
    "    if 'USA' in str(d.PubAdd[i]):\n",
    "        usa.append(1)\n",
    "    else:\n",
    "        usa.append(0)\n",
    "\n",
    "d['USA'] = usa"
   ]
  },
  {
   "cell_type": "code",
   "execution_count": 21,
   "id": "5a6f9c4a",
   "metadata": {},
   "outputs": [
    {
     "data": {
      "text/plain": [
       "Text(0.5, 0, 'Articles published')"
      ]
     },
     "execution_count": 21,
     "metadata": {},
     "output_type": "execute_result"
    },
    {
     "data": {
      "image/png": "[encoded data removed]",
      "text/plain": [
       "<Figure size 432x288 with 1 Axes>"
      ]
     },
     "metadata": {
      "needs_background": "light"
     },
     "output_type": "display_data"
    }
   ],
   "source": [
    "# EDA on publisher cities in USA (Data: For universities of Georgia)\n",
    "pub_add = d[['Publisher City', 'Publisher', 'USA']]\n",
    "p = pub_add[pub_add.USA == 1]\n",
    "ax = sb.countplot(y=p['Publisher City'])\n",
    "ax.set_title(\"Articles published in different cities of USA\")\n",
    "ax.set_xlabel(\"Articles published\")"
   ]
  },
  {
   "cell_type": "code",
   "execution_count": 22,
   "id": "3a43ebdc",
   "metadata": {},
   "outputs": [
    {
     "data": {
      "text/plain": [
       "Text(0.5, 0, 'Articles published')"
      ]
     },
     "execution_count": 22,
     "metadata": {},
     "output_type": "execute_result"
    },
    {
     "data": {
      "image/png": "[encoded data removed]",
      "text/plain": [
       "<Figure size 432x288 with 1 Axes>"
      ]
     },
     "metadata": {
      "needs_background": "light"
     },
     "output_type": "display_data"
    }
   ],
   "source": [
    "# EDA on publishers in USA (Data: For universities of Georgia)\n",
    "pub_add = d[['Publisher City', 'Publisher', 'USA']]\n",
    "p = pub_add[pub_add.USA == 1]\n",
    "ax = sb.countplot(y=p['Publisher'])\n",
    "ax.set_title(\"Publishers in USA\")\n",
    "ax.set_xlabel(\"Articles published\")"
   ]
  },
  {
   "cell_type": "code",
   "execution_count": 23,
   "id": "c095beb8",
   "metadata": {},
   "outputs": [
    {
     "data": {
      "text/plain": [
       "Text(0, 0.5, 'No of articles published')"
      ]
     },
     "execution_count": 23,
     "metadata": {},
     "output_type": "execute_result"
    },
    {
     "data": {
      "image/png": "[encoded data removed]",
      "text/plain": [
       "<Figure size 432x288 with 1 Axes>"
      ]
     },
     "metadata": {
      "needs_background": "light"
     },
     "output_type": "display_data"
    }
   ],
   "source": [
    "# EDA - Yearwise publication in USA (Data: For universities of Georgia)\n",
    "d = d[d['Publication Year'].notna()]\n",
    "d = d[d.USA == 1]\n",
    "d = d['Publication Year']\n",
    "d = d.astype(int)\n",
    "ax = sb.countplot(x=d)\n",
    "ax.set_title(\"Publications yearwise\")\n",
    "ax.set_xlabel(\"Publication Year\")\n",
    "ax.set_ylabel(\"No of articles published\")"
   ]
  },
  {
   "cell_type": "markdown",
   "id": "68f20ad9",
   "metadata": {},
   "source": [
    "### 4. Creating crosswalk"
   ]
  },
  {
   "cell_type": "markdown",
   "id": "a5ae7c90",
   "metadata": {},
   "source": [
    "* Used the AMA’s website about medical centers and associated medical schools and programs . https://freida.ama-assn.org/institution?page=1&filter=G (this is the URL or Georgia state as a sample)\n",
    "* Analysed the structure of web page where is the relevant information about affiliated medical schools are mentioned and address of medical centres are mentioned.\n",
    "* Created a web-scrapper using selenium to scrap all websites (each of a medical centre) for available information about its address and medical school its affiliated to.\n",
    "* Created a csv dataset regarding the same (attributes: AMC_No, AMC_Name, URLs, Affiliation_Major, Affiliation_Limited, Affiliation_Graduate, Medical_Center_Address)\n",
    "\n",
    "**NOTE:** The below code requires a *chromedriver.exe* which is stored in the same folder as this code. Refer point 3 in documentation for more details of its location."
   ]
  },
  {
   "cell_type": "code",
   "execution_count": 1,
   "id": "d21981d4",
   "metadata": {},
   "outputs": [],
   "source": [
    "# Importing required libraries for web-scrapping\n",
    "from selenium import webdriver\n",
    "from selenium.webdriver.chrome.options import Options\n",
    "from selenium.webdriver.common.by import By\n",
    "from bs4 import BeautifulSoup\n",
    "import time\n",
    "import json\n",
    "import ctypes\n",
    "from pathlib import Path"
   ]
  },
  {
   "cell_type": "markdown",
   "id": "b0e8c19a",
   "metadata": {},
   "source": [
    "##### 4.1 Importing the data downloaded from the AMA website\n",
    "\n",
    "**NOTE:** The following code cell required raw data files which are stored in the folder *CrosswalkRawData* please refer documentation point 4 for more information on its location."
   ]
  },
  {
   "cell_type": "code",
   "execution_count": 35,
   "id": "576be5c6",
   "metadata": {},
   "outputs": [],
   "source": [
    "Arizona = pd.read_csv('CrosswalkRawData/Arizona.csv')\n",
    "Alabama = pd.read_csv('CrosswalkRawData/Alabama.csv')\n",
    "Alaska = pd.read_csv('CrosswalkRawData/Alaska.csv')\n",
    "Arkansas = pd.read_csv('CrosswalkRawData/Arkansas.csv')\n",
    "California = pd.read_csv('CrosswalkRawData/California.csv')\n",
    "Colorado = pd.read_csv('CrosswalkRawData/Colorado.csv')\n",
    "Conneticut = pd.read_csv('CrosswalkRawData/Connecticut.csv')\n",
    "Delaware = pd.read_csv('CrosswalkRawData/Delaware.csv')\n",
    "Doc = pd.read_csv('CrosswalkRawData/District_of_Columbia.csv')\n",
    "Florida = pd.read_csv('CrosswalkRawData/Florida.csv')\n",
    "Idaho = pd.read_csv('CrosswalkRawData/Idaho.csv')\n",
    "Illinois = pd.read_csv('CrosswalkRawData/Illinois.csv')\n",
    "Indiana = pd.read_csv('CrosswalkRawData/Indiana.csv')\n",
    "Iowa = pd.read_csv('CrosswalkRawData/Iowa.csv')\n",
    "Kansas = pd.read_csv('CrosswalkRawData/Kansas.csv')\n",
    "Kentucky = pd.read_csv('CrosswalkRawData/Kentucky.csv')\n",
    "Hawaii = pd.read_csv('CrosswalkRawData/Hawaii.csv')\n",
    "Louisiana = pd.read_csv('CrosswalkRawData/Louisiana.csv')\n",
    "Maine = pd.read_csv('CrosswalkRawData/Maine.csv')\n",
    "Maryland = pd.read_csv('CrosswalkRawData/Maryland.csv')\n",
    "Massachusetts = pd.read_csv('CrosswalkRawData/Massachusetts.csv')\n",
    "Michigan = pd.read_csv('CrosswalkRawData/Michigan.csv')\n",
    "Minnesota = pd.read_csv('CrosswalkRawData/Minnesota.csv')\n",
    "Mississippi = pd.read_csv('CrosswalkRawData/Mississippi.csv')\n",
    "Missouri = pd.read_csv('CrosswalkRawData/Missouri.csv')\n",
    "Nebraska = pd.read_csv('CrosswalkRawData/Nebraska.csv')\n",
    "Nevada = pd.read_csv('CrosswalkRawData/Nevada.csv')\n",
    "New Hampshire = pd.read_csv('CrosswalkRawData/New Hampshire.csv')\n",
    "New Jersey = pd.read_csv('CrosswalkRawData/New Jersey.csv')\n",
    "New York = pd.read_csv('CrosswalkRawData/New York.csv')\n",
    "North Carolina = pd.read_csv('CrosswalkRawData/North Carolina.csv')\n",
    "North Dakota = pd.read_csv('CrosswalkRawData/North Dakota.csv')\n",
    "Ohio = pd.read_csv('CrosswalkRawData/Ohio.csv')\n",
    "Oklahoma = pd.read_csv('CrosswalkRawData/Oklahoma.csv')\n",
    "Oregon = pd.read_csv('CrosswalkRawData/Oregon.csv')\n",
    "Pennsylvania = pd.read_csv('CrosswalkRawData/Pennsylvania.csv')\n",
    "PueroRico= pd.read_csv('CrosswalkRawData/Puerto Rico.csv')\n",
    "RhodeIsland = pd.read_csv('CrosswalkRawData/Rhode Island.csv')\n",
    "SouthCarolina = pd.read_csv('CrosswalkRawData/South Carolina.csv')\n",
    "SouthDakota = pd.read_csv('CrosswalkRawData/South Dakota.csv')\n",
    "Tennesse = pd.read_csv('CrosswalkRawData/Tennesse.csv')\n",
    "Texas = pd.read_csv('CrosswalkRawData/Texas.csv')\n",
    "Utah = pd.read_csv('CrosswalkRawData/Utah.csv')\n",
    "Vermont = pd.read_csv('CrosswalkRawData/Vermont.csv')\n",
    "Virginia = pd.read_csv('CrosswalkRawData/Virginia.csv')\n",
    "Washington = pd.read_csv('CrosswalkRawData/Washington.csv')\n",
    "WestVirginia = pd.read_csv('CrosswalkRawData/WestVirginia.csv')\n",
    "Wisconsin = pd.read_csv('CrosswalkRawData/Wisconsin.csv')\n",
    "Wyoming = pd.read_csv('CrosswalkRawData/Wyoming.csv')\n",
    "\n",
    "states = [Alaska, Arkansas, California, Colorado, Conneticut, Delaware, Doc, Florida, Idaho, Illinois, Indiana, \n",
    "          Iowa, Kansas, Kentucky, Hawaii, Louisiana, Maine, Maryland, Massachusetts, Michigan, Minnesota, Mississippi,\n",
    "          Missouri,Nebraska, Nevada, Newyork, NewHampshire, NorthCarolina, Ohio, Oklahoma, Oregon, Pennsylvania, \n",
    "          PuertoRico,RhodeIsland, SouthCarolina, SouthDakota, Tennesse, Texas, Utah, Vermont, Virginia, Washington,WestVirginia,\n",
    "          Wisconsin, Wyoming]\n",
    "state_name = ['Alaska', 'Arkansas', 'California', 'Colorado', 'Conneticut', 'Delaware', 'Doc', 'Florida', 'Idaho', \n",
    "              'Illinois', 'Indiana', 'Iowa', 'Kansas', 'Kentucky', 'Hawaii', 'Louisiana', 'Maine', 'Maryland',\n",
    "              'Massachusetts', 'Michigan', 'Minnesota', 'Mississippi', 'Missouri', 'Nebraska', 'Nevada', 'Newyork', \n",
    "              'NewHampshire', 'NorthCarolina', 'Ohio', 'Oklahoma', 'Oregon', 'Pennsylvania', 'PuertoRico', 'RhodeIsland', \n",
    "              'South Carolina', 'SouthDakota', 'Tennesse', 'Texas', 'Utah', 'Vermont', 'Virginia', 'Washington','WestVirginia', 'Wisconsin',\n",
    "              'Wyoming']"
   ]
  },
  {
   "cell_type": "markdown",
   "id": "e8fed27a",
   "metadata": {},
   "source": [
    "##### 4.2 Creating driversetup and pagesource functions"
   ]
  },
  {
   "cell_type": "code",
   "execution_count": 27,
   "id": "3f30c214",
   "metadata": {},
   "outputs": [],
   "source": [
    "def driversetup():\n",
    "    options = webdriver.ChromeOptions()\n",
    "    #run Selenium in headless mode\n",
    "    options.add_argument('--headless')\n",
    "    options.add_argument('--no-sandbox')\n",
    "    options.add_argument(\"enable-automation\")\n",
    "    #overcome limited resource problems\n",
    "    options.add_argument('--disable-dev-shm-usage')\n",
    "    options.add_argument(\"lang=en\")\n",
    "    #open Browser in maximized mode\n",
    "    options.add_argument(\"start-maximized\")\n",
    "    #disable infobars\n",
    "    options.add_argument(\"disable-infobars\")\n",
    "    #disable extension\n",
    "    options.add_argument(\"--disable-browser-side-navigation\")\n",
    "    options.add_argument(\"--disable-gpu\")\n",
    "    options.add_argument(\"--disable-extensions\")\n",
    "    options.add_argument(\"--incognito\")\n",
    "    options.add_argument(\"--disable-blink-features=AutomationControlled\")\n",
    "    driver = webdriver.Chrome(options=options)\n",
    "    driver.execute_script(\"Object.defineProperty(navigator, 'webdriver', {get: () => undefined});\")\n",
    "    return driver\n",
    "\n",
    "def pagesource(url, driver):\n",
    "    driver = driver\n",
    "    driver.get(url)\n",
    "    time.sleep(7)\n",
    "    soup = BeautifulSoup(driver.page_source)\n",
    "    return soup"
   ]
  },
  {
   "cell_type": "markdown",
   "id": "cc0dcc46",
   "metadata": {},
   "source": [
    "##### 4.3 Getting/ Creating URLs for all entries obtained from AMA website (using AMC_no and AMC_name) and fetching the data, creating individual csvs for each state."
   ]
  },
  {
   "cell_type": "code",
   "execution_count": 39,
   "id": "86683354",
   "metadata": {},
   "outputs": [
    {
     "name": "stdout",
     "output_type": "stream",
     "text": [
      "---------- Alaska ----------\n",
      "9 9 9 9\n",
      "---------- Arkansas ----------\n"
     ]
    },
    {
     "ename": "KeyboardInterrupt",
     "evalue": "",
     "output_type": "error",
     "traceback": [
      "\u001b[1;31m---------------------------------------------------------------------------\u001b[0m",
      "\u001b[1;31mKeyboardInterrupt\u001b[0m                         Traceback (most recent call last)",
      "\u001b[1;32m~\\AppData\\Local\\Temp/ipykernel_9164/3513830536.py\u001b[0m in \u001b[0;36m<module>\u001b[1;34m\u001b[0m\n\u001b[0;32m     23\u001b[0m     \u001b[1;32mfor\u001b[0m \u001b[0mindex\u001b[0m\u001b[1;33m,\u001b[0m \u001b[0mi\u001b[0m \u001b[1;32min\u001b[0m \u001b[0mhospitals\u001b[0m\u001b[1;33m.\u001b[0m\u001b[0miterrows\u001b[0m\u001b[1;33m(\u001b[0m\u001b[1;33m)\u001b[0m\u001b[1;33m:\u001b[0m\u001b[1;33m\u001b[0m\u001b[1;33m\u001b[0m\u001b[0m\n\u001b[0;32m     24\u001b[0m         \u001b[0murl\u001b[0m \u001b[1;33m=\u001b[0m \u001b[0mi\u001b[0m\u001b[1;33m[\u001b[0m\u001b[1;34m'URLS'\u001b[0m\u001b[1;33m]\u001b[0m\u001b[1;33m\u001b[0m\u001b[1;33m\u001b[0m\u001b[0m\n\u001b[1;32m---> 25\u001b[1;33m         \u001b[0ms\u001b[0m \u001b[1;33m=\u001b[0m \u001b[0mpagesource\u001b[0m\u001b[1;33m(\u001b[0m\u001b[0murl\u001b[0m\u001b[1;33m,\u001b[0m \u001b[0md\u001b[0m\u001b[1;33m)\u001b[0m\u001b[1;33m\u001b[0m\u001b[1;33m\u001b[0m\u001b[0m\n\u001b[0m\u001b[0;32m     26\u001b[0m         \u001b[0mmed_school\u001b[0m \u001b[1;33m=\u001b[0m \u001b[0mlist\u001b[0m\u001b[1;33m(\u001b[0m\u001b[0ms\u001b[0m\u001b[1;33m.\u001b[0m\u001b[0mfindAll\u001b[0m\u001b[1;33m(\u001b[0m\u001b[1;34m'small'\u001b[0m\u001b[1;33m,\u001b[0m \u001b[0mclass_\u001b[0m\u001b[1;33m=\u001b[0m\u001b[1;34m\"bold\"\u001b[0m\u001b[1;33m)\u001b[0m\u001b[1;33m)\u001b[0m\u001b[1;33m\u001b[0m\u001b[1;33m\u001b[0m\u001b[0m\n\u001b[0;32m     27\u001b[0m         \u001b[0maddress\u001b[0m \u001b[1;33m=\u001b[0m \u001b[0mlist\u001b[0m\u001b[1;33m(\u001b[0m\u001b[0ms\u001b[0m\u001b[1;33m.\u001b[0m\u001b[0mfindAll\u001b[0m\u001b[1;33m(\u001b[0m\u001b[1;34m'div'\u001b[0m\u001b[1;33m,\u001b[0m \u001b[0mclass_\u001b[0m\u001b[1;33m=\u001b[0m\u001b[1;34m\"details__address ng-star-inserted\"\u001b[0m\u001b[1;33m)\u001b[0m\u001b[1;33m)\u001b[0m\u001b[1;33m\u001b[0m\u001b[1;33m\u001b[0m\u001b[0m\n",
      "\u001b[1;32m~\\AppData\\Local\\Temp/ipykernel_9164/3148692820.py\u001b[0m in \u001b[0;36mpagesource\u001b[1;34m(url, driver)\u001b[0m\n\u001b[0;32m     24\u001b[0m \u001b[1;32mdef\u001b[0m \u001b[0mpagesource\u001b[0m\u001b[1;33m(\u001b[0m\u001b[0murl\u001b[0m\u001b[1;33m,\u001b[0m \u001b[0mdriver\u001b[0m\u001b[1;33m)\u001b[0m\u001b[1;33m:\u001b[0m\u001b[1;33m\u001b[0m\u001b[1;33m\u001b[0m\u001b[0m\n\u001b[0;32m     25\u001b[0m     \u001b[0mdriver\u001b[0m \u001b[1;33m=\u001b[0m \u001b[0mdriver\u001b[0m\u001b[1;33m\u001b[0m\u001b[1;33m\u001b[0m\u001b[0m\n\u001b[1;32m---> 26\u001b[1;33m     \u001b[0mdriver\u001b[0m\u001b[1;33m.\u001b[0m\u001b[0mget\u001b[0m\u001b[1;33m(\u001b[0m\u001b[0murl\u001b[0m\u001b[1;33m)\u001b[0m\u001b[1;33m\u001b[0m\u001b[1;33m\u001b[0m\u001b[0m\n\u001b[0m\u001b[0;32m     27\u001b[0m     \u001b[0mtime\u001b[0m\u001b[1;33m.\u001b[0m\u001b[0msleep\u001b[0m\u001b[1;33m(\u001b[0m\u001b[1;36m7\u001b[0m\u001b[1;33m)\u001b[0m\u001b[1;33m\u001b[0m\u001b[1;33m\u001b[0m\u001b[0m\n\u001b[0;32m     28\u001b[0m     \u001b[0msoup\u001b[0m \u001b[1;33m=\u001b[0m \u001b[0mBeautifulSoup\u001b[0m\u001b[1;33m(\u001b[0m\u001b[0mdriver\u001b[0m\u001b[1;33m.\u001b[0m\u001b[0mpage_source\u001b[0m\u001b[1;33m)\u001b[0m\u001b[1;33m\u001b[0m\u001b[1;33m\u001b[0m\u001b[0m\n",
      "\u001b[1;32m~\\anaconda3\\lib\\site-packages\\selenium\\webdriver\\remote\\webdriver.py\u001b[0m in \u001b[0;36mget\u001b[1;34m(self, url)\u001b[0m\n\u001b[0;32m    439\u001b[0m         \u001b[0mLoads\u001b[0m \u001b[0ma\u001b[0m \u001b[0mweb\u001b[0m \u001b[0mpage\u001b[0m \u001b[1;32min\u001b[0m \u001b[0mthe\u001b[0m \u001b[0mcurrent\u001b[0m \u001b[0mbrowser\u001b[0m \u001b[0msession\u001b[0m\u001b[1;33m.\u001b[0m\u001b[1;33m\u001b[0m\u001b[1;33m\u001b[0m\u001b[0m\n\u001b[0;32m    440\u001b[0m         \"\"\"\n\u001b[1;32m--> 441\u001b[1;33m         \u001b[0mself\u001b[0m\u001b[1;33m.\u001b[0m\u001b[0mexecute\u001b[0m\u001b[1;33m(\u001b[0m\u001b[0mCommand\u001b[0m\u001b[1;33m.\u001b[0m\u001b[0mGET\u001b[0m\u001b[1;33m,\u001b[0m \u001b[1;33m{\u001b[0m\u001b[1;34m'url'\u001b[0m\u001b[1;33m:\u001b[0m \u001b[0murl\u001b[0m\u001b[1;33m}\u001b[0m\u001b[1;33m)\u001b[0m\u001b[1;33m\u001b[0m\u001b[1;33m\u001b[0m\u001b[0m\n\u001b[0m\u001b[0;32m    442\u001b[0m \u001b[1;33m\u001b[0m\u001b[0m\n\u001b[0;32m    443\u001b[0m     \u001b[1;33m@\u001b[0m\u001b[0mproperty\u001b[0m\u001b[1;33m\u001b[0m\u001b[1;33m\u001b[0m\u001b[0m\n",
      "\u001b[1;32m~\\anaconda3\\lib\\site-packages\\selenium\\webdriver\\remote\\webdriver.py\u001b[0m in \u001b[0;36mexecute\u001b[1;34m(self, driver_command, params)\u001b[0m\n\u001b[0;32m    425\u001b[0m \u001b[1;33m\u001b[0m\u001b[0m\n\u001b[0;32m    426\u001b[0m         \u001b[0mparams\u001b[0m \u001b[1;33m=\u001b[0m \u001b[0mself\u001b[0m\u001b[1;33m.\u001b[0m\u001b[0m_wrap_value\u001b[0m\u001b[1;33m(\u001b[0m\u001b[0mparams\u001b[0m\u001b[1;33m)\u001b[0m\u001b[1;33m\u001b[0m\u001b[1;33m\u001b[0m\u001b[0m\n\u001b[1;32m--> 427\u001b[1;33m         \u001b[0mresponse\u001b[0m \u001b[1;33m=\u001b[0m \u001b[0mself\u001b[0m\u001b[1;33m.\u001b[0m\u001b[0mcommand_executor\u001b[0m\u001b[1;33m.\u001b[0m\u001b[0mexecute\u001b[0m\u001b[1;33m(\u001b[0m\u001b[0mdriver_command\u001b[0m\u001b[1;33m,\u001b[0m \u001b[0mparams\u001b[0m\u001b[1;33m)\u001b[0m\u001b[1;33m\u001b[0m\u001b[1;33m\u001b[0m\u001b[0m\n\u001b[0m\u001b[0;32m    428\u001b[0m         \u001b[1;32mif\u001b[0m \u001b[0mresponse\u001b[0m\u001b[1;33m:\u001b[0m\u001b[1;33m\u001b[0m\u001b[1;33m\u001b[0m\u001b[0m\n\u001b[0;32m    429\u001b[0m             \u001b[0mself\u001b[0m\u001b[1;33m.\u001b[0m\u001b[0merror_handler\u001b[0m\u001b[1;33m.\u001b[0m\u001b[0mcheck_response\u001b[0m\u001b[1;33m(\u001b[0m\u001b[0mresponse\u001b[0m\u001b[1;33m)\u001b[0m\u001b[1;33m\u001b[0m\u001b[1;33m\u001b[0m\u001b[0m\n",
      "\u001b[1;32m~\\anaconda3\\lib\\site-packages\\selenium\\webdriver\\remote\\remote_connection.py\u001b[0m in \u001b[0;36mexecute\u001b[1;34m(self, command, params)\u001b[0m\n\u001b[0;32m    342\u001b[0m         \u001b[0mdata\u001b[0m \u001b[1;33m=\u001b[0m \u001b[0mutils\u001b[0m\u001b[1;33m.\u001b[0m\u001b[0mdump_json\u001b[0m\u001b[1;33m(\u001b[0m\u001b[0mparams\u001b[0m\u001b[1;33m)\u001b[0m\u001b[1;33m\u001b[0m\u001b[1;33m\u001b[0m\u001b[0m\n\u001b[0;32m    343\u001b[0m         \u001b[0murl\u001b[0m \u001b[1;33m=\u001b[0m \u001b[1;34mf\"{self._url}{path}\"\u001b[0m\u001b[1;33m\u001b[0m\u001b[1;33m\u001b[0m\u001b[0m\n\u001b[1;32m--> 344\u001b[1;33m         \u001b[1;32mreturn\u001b[0m \u001b[0mself\u001b[0m\u001b[1;33m.\u001b[0m\u001b[0m_request\u001b[0m\u001b[1;33m(\u001b[0m\u001b[0mcommand_info\u001b[0m\u001b[1;33m[\u001b[0m\u001b[1;36m0\u001b[0m\u001b[1;33m]\u001b[0m\u001b[1;33m,\u001b[0m \u001b[0murl\u001b[0m\u001b[1;33m,\u001b[0m \u001b[0mbody\u001b[0m\u001b[1;33m=\u001b[0m\u001b[0mdata\u001b[0m\u001b[1;33m)\u001b[0m\u001b[1;33m\u001b[0m\u001b[1;33m\u001b[0m\u001b[0m\n\u001b[0m\u001b[0;32m    345\u001b[0m \u001b[1;33m\u001b[0m\u001b[0m\n\u001b[0;32m    346\u001b[0m     \u001b[1;32mdef\u001b[0m \u001b[0m_request\u001b[0m\u001b[1;33m(\u001b[0m\u001b[0mself\u001b[0m\u001b[1;33m,\u001b[0m \u001b[0mmethod\u001b[0m\u001b[1;33m,\u001b[0m \u001b[0murl\u001b[0m\u001b[1;33m,\u001b[0m \u001b[0mbody\u001b[0m\u001b[1;33m=\u001b[0m\u001b[1;32mNone\u001b[0m\u001b[1;33m)\u001b[0m\u001b[1;33m:\u001b[0m\u001b[1;33m\u001b[0m\u001b[1;33m\u001b[0m\u001b[0m\n",
      "\u001b[1;32m~\\anaconda3\\lib\\site-packages\\selenium\\webdriver\\remote\\remote_connection.py\u001b[0m in \u001b[0;36m_request\u001b[1;34m(self, method, url, body)\u001b[0m\n\u001b[0;32m    364\u001b[0m \u001b[1;33m\u001b[0m\u001b[0m\n\u001b[0;32m    365\u001b[0m         \u001b[1;32mif\u001b[0m \u001b[0mself\u001b[0m\u001b[1;33m.\u001b[0m\u001b[0mkeep_alive\u001b[0m\u001b[1;33m:\u001b[0m\u001b[1;33m\u001b[0m\u001b[1;33m\u001b[0m\u001b[0m\n\u001b[1;32m--> 366\u001b[1;33m             \u001b[0mresponse\u001b[0m \u001b[1;33m=\u001b[0m \u001b[0mself\u001b[0m\u001b[1;33m.\u001b[0m\u001b[0m_conn\u001b[0m\u001b[1;33m.\u001b[0m\u001b[0mrequest\u001b[0m\u001b[1;33m(\u001b[0m\u001b[0mmethod\u001b[0m\u001b[1;33m,\u001b[0m \u001b[0murl\u001b[0m\u001b[1;33m,\u001b[0m \u001b[0mbody\u001b[0m\u001b[1;33m=\u001b[0m\u001b[0mbody\u001b[0m\u001b[1;33m,\u001b[0m \u001b[0mheaders\u001b[0m\u001b[1;33m=\u001b[0m\u001b[0mheaders\u001b[0m\u001b[1;33m)\u001b[0m\u001b[1;33m\u001b[0m\u001b[1;33m\u001b[0m\u001b[0m\n\u001b[0m\u001b[0;32m    367\u001b[0m             \u001b[0mstatuscode\u001b[0m \u001b[1;33m=\u001b[0m \u001b[0mresponse\u001b[0m\u001b[1;33m.\u001b[0m\u001b[0mstatus\u001b[0m\u001b[1;33m\u001b[0m\u001b[1;33m\u001b[0m\u001b[0m\n\u001b[0;32m    368\u001b[0m         \u001b[1;32melse\u001b[0m\u001b[1;33m:\u001b[0m\u001b[1;33m\u001b[0m\u001b[1;33m\u001b[0m\u001b[0m\n",
      "\u001b[1;32m~\\anaconda3\\lib\\site-packages\\urllib3\\request.py\u001b[0m in \u001b[0;36mrequest\u001b[1;34m(self, method, url, fields, headers, **urlopen_kw)\u001b[0m\n\u001b[0;32m     76\u001b[0m             )\n\u001b[0;32m     77\u001b[0m         \u001b[1;32melse\u001b[0m\u001b[1;33m:\u001b[0m\u001b[1;33m\u001b[0m\u001b[1;33m\u001b[0m\u001b[0m\n\u001b[1;32m---> 78\u001b[1;33m             return self.request_encode_body(\n\u001b[0m\u001b[0;32m     79\u001b[0m                 \u001b[0mmethod\u001b[0m\u001b[1;33m,\u001b[0m \u001b[0murl\u001b[0m\u001b[1;33m,\u001b[0m \u001b[0mfields\u001b[0m\u001b[1;33m=\u001b[0m\u001b[0mfields\u001b[0m\u001b[1;33m,\u001b[0m \u001b[0mheaders\u001b[0m\u001b[1;33m=\u001b[0m\u001b[0mheaders\u001b[0m\u001b[1;33m,\u001b[0m \u001b[1;33m**\u001b[0m\u001b[0murlopen_kw\u001b[0m\u001b[1;33m\u001b[0m\u001b[1;33m\u001b[0m\u001b[0m\n\u001b[0;32m     80\u001b[0m             )\n",
      "\u001b[1;32m~\\anaconda3\\lib\\site-packages\\urllib3\\request.py\u001b[0m in \u001b[0;36mrequest_encode_body\u001b[1;34m(self, method, url, fields, headers, encode_multipart, multipart_boundary, **urlopen_kw)\u001b[0m\n\u001b[0;32m    168\u001b[0m         \u001b[0mextra_kw\u001b[0m\u001b[1;33m.\u001b[0m\u001b[0mupdate\u001b[0m\u001b[1;33m(\u001b[0m\u001b[0murlopen_kw\u001b[0m\u001b[1;33m)\u001b[0m\u001b[1;33m\u001b[0m\u001b[1;33m\u001b[0m\u001b[0m\n\u001b[0;32m    169\u001b[0m \u001b[1;33m\u001b[0m\u001b[0m\n\u001b[1;32m--> 170\u001b[1;33m         \u001b[1;32mreturn\u001b[0m \u001b[0mself\u001b[0m\u001b[1;33m.\u001b[0m\u001b[0murlopen\u001b[0m\u001b[1;33m(\u001b[0m\u001b[0mmethod\u001b[0m\u001b[1;33m,\u001b[0m \u001b[0murl\u001b[0m\u001b[1;33m,\u001b[0m \u001b[1;33m**\u001b[0m\u001b[0mextra_kw\u001b[0m\u001b[1;33m)\u001b[0m\u001b[1;33m\u001b[0m\u001b[1;33m\u001b[0m\u001b[0m\n\u001b[0m",
      "\u001b[1;32m~\\anaconda3\\lib\\site-packages\\urllib3\\poolmanager.py\u001b[0m in \u001b[0;36murlopen\u001b[1;34m(self, method, url, redirect, **kw)\u001b[0m\n\u001b[0;32m    373\u001b[0m             \u001b[0mresponse\u001b[0m \u001b[1;33m=\u001b[0m \u001b[0mconn\u001b[0m\u001b[1;33m.\u001b[0m\u001b[0murlopen\u001b[0m\u001b[1;33m(\u001b[0m\u001b[0mmethod\u001b[0m\u001b[1;33m,\u001b[0m \u001b[0murl\u001b[0m\u001b[1;33m,\u001b[0m \u001b[1;33m**\u001b[0m\u001b[0mkw\u001b[0m\u001b[1;33m)\u001b[0m\u001b[1;33m\u001b[0m\u001b[1;33m\u001b[0m\u001b[0m\n\u001b[0;32m    374\u001b[0m         \u001b[1;32melse\u001b[0m\u001b[1;33m:\u001b[0m\u001b[1;33m\u001b[0m\u001b[1;33m\u001b[0m\u001b[0m\n\u001b[1;32m--> 375\u001b[1;33m             \u001b[0mresponse\u001b[0m \u001b[1;33m=\u001b[0m \u001b[0mconn\u001b[0m\u001b[1;33m.\u001b[0m\u001b[0murlopen\u001b[0m\u001b[1;33m(\u001b[0m\u001b[0mmethod\u001b[0m\u001b[1;33m,\u001b[0m \u001b[0mu\u001b[0m\u001b[1;33m.\u001b[0m\u001b[0mrequest_uri\u001b[0m\u001b[1;33m,\u001b[0m \u001b[1;33m**\u001b[0m\u001b[0mkw\u001b[0m\u001b[1;33m)\u001b[0m\u001b[1;33m\u001b[0m\u001b[1;33m\u001b[0m\u001b[0m\n\u001b[0m\u001b[0;32m    376\u001b[0m \u001b[1;33m\u001b[0m\u001b[0m\n\u001b[0;32m    377\u001b[0m         \u001b[0mredirect_location\u001b[0m \u001b[1;33m=\u001b[0m \u001b[0mredirect\u001b[0m \u001b[1;32mand\u001b[0m \u001b[0mresponse\u001b[0m\u001b[1;33m.\u001b[0m\u001b[0mget_redirect_location\u001b[0m\u001b[1;33m(\u001b[0m\u001b[1;33m)\u001b[0m\u001b[1;33m\u001b[0m\u001b[1;33m\u001b[0m\u001b[0m\n",
      "\u001b[1;32m~\\anaconda3\\lib\\site-packages\\urllib3\\connectionpool.py\u001b[0m in \u001b[0;36murlopen\u001b[1;34m(self, method, url, body, headers, retries, redirect, assert_same_host, timeout, pool_timeout, release_conn, chunked, body_pos, **response_kw)\u001b[0m\n\u001b[0;32m    697\u001b[0m \u001b[1;33m\u001b[0m\u001b[0m\n\u001b[0;32m    698\u001b[0m             \u001b[1;31m# Make the request on the httplib connection object.\u001b[0m\u001b[1;33m\u001b[0m\u001b[1;33m\u001b[0m\u001b[0m\n\u001b[1;32m--> 699\u001b[1;33m             httplib_response = self._make_request(\n\u001b[0m\u001b[0;32m    700\u001b[0m                 \u001b[0mconn\u001b[0m\u001b[1;33m,\u001b[0m\u001b[1;33m\u001b[0m\u001b[1;33m\u001b[0m\u001b[0m\n\u001b[0;32m    701\u001b[0m                 \u001b[0mmethod\u001b[0m\u001b[1;33m,\u001b[0m\u001b[1;33m\u001b[0m\u001b[1;33m\u001b[0m\u001b[0m\n",
      "\u001b[1;32m~\\anaconda3\\lib\\site-packages\\urllib3\\connectionpool.py\u001b[0m in \u001b[0;36m_make_request\u001b[1;34m(self, conn, method, url, timeout, chunked, **httplib_request_kw)\u001b[0m\n\u001b[0;32m    443\u001b[0m                     \u001b[1;31m# Python 3 (including for exceptions like SystemExit).\u001b[0m\u001b[1;33m\u001b[0m\u001b[1;33m\u001b[0m\u001b[0m\n\u001b[0;32m    444\u001b[0m                     \u001b[1;31m# Otherwise it looks like a bug in the code.\u001b[0m\u001b[1;33m\u001b[0m\u001b[1;33m\u001b[0m\u001b[0m\n\u001b[1;32m--> 445\u001b[1;33m                     \u001b[0msix\u001b[0m\u001b[1;33m.\u001b[0m\u001b[0mraise_from\u001b[0m\u001b[1;33m(\u001b[0m\u001b[0me\u001b[0m\u001b[1;33m,\u001b[0m \u001b[1;32mNone\u001b[0m\u001b[1;33m)\u001b[0m\u001b[1;33m\u001b[0m\u001b[1;33m\u001b[0m\u001b[0m\n\u001b[0m\u001b[0;32m    446\u001b[0m         \u001b[1;32mexcept\u001b[0m \u001b[1;33m(\u001b[0m\u001b[0mSocketTimeout\u001b[0m\u001b[1;33m,\u001b[0m \u001b[0mBaseSSLError\u001b[0m\u001b[1;33m,\u001b[0m \u001b[0mSocketError\u001b[0m\u001b[1;33m)\u001b[0m \u001b[1;32mas\u001b[0m \u001b[0me\u001b[0m\u001b[1;33m:\u001b[0m\u001b[1;33m\u001b[0m\u001b[1;33m\u001b[0m\u001b[0m\n\u001b[0;32m    447\u001b[0m             \u001b[0mself\u001b[0m\u001b[1;33m.\u001b[0m\u001b[0m_raise_timeout\u001b[0m\u001b[1;33m(\u001b[0m\u001b[0merr\u001b[0m\u001b[1;33m=\u001b[0m\u001b[0me\u001b[0m\u001b[1;33m,\u001b[0m \u001b[0murl\u001b[0m\u001b[1;33m=\u001b[0m\u001b[0murl\u001b[0m\u001b[1;33m,\u001b[0m \u001b[0mtimeout_value\u001b[0m\u001b[1;33m=\u001b[0m\u001b[0mread_timeout\u001b[0m\u001b[1;33m)\u001b[0m\u001b[1;33m\u001b[0m\u001b[1;33m\u001b[0m\u001b[0m\n",
      "\u001b[1;32m~\\anaconda3\\lib\\site-packages\\urllib3\\packages\\six.py\u001b[0m in \u001b[0;36mraise_from\u001b[1;34m(value, from_value)\u001b[0m\n",
      "\u001b[1;32m~\\anaconda3\\lib\\site-packages\\urllib3\\connectionpool.py\u001b[0m in \u001b[0;36m_make_request\u001b[1;34m(self, conn, method, url, timeout, chunked, **httplib_request_kw)\u001b[0m\n\u001b[0;32m    438\u001b[0m                 \u001b[1;31m# Python 3\u001b[0m\u001b[1;33m\u001b[0m\u001b[1;33m\u001b[0m\u001b[0m\n\u001b[0;32m    439\u001b[0m                 \u001b[1;32mtry\u001b[0m\u001b[1;33m:\u001b[0m\u001b[1;33m\u001b[0m\u001b[1;33m\u001b[0m\u001b[0m\n\u001b[1;32m--> 440\u001b[1;33m                     \u001b[0mhttplib_response\u001b[0m \u001b[1;33m=\u001b[0m \u001b[0mconn\u001b[0m\u001b[1;33m.\u001b[0m\u001b[0mgetresponse\u001b[0m\u001b[1;33m(\u001b[0m\u001b[1;33m)\u001b[0m\u001b[1;33m\u001b[0m\u001b[1;33m\u001b[0m\u001b[0m\n\u001b[0m\u001b[0;32m    441\u001b[0m                 \u001b[1;32mexcept\u001b[0m \u001b[0mBaseException\u001b[0m \u001b[1;32mas\u001b[0m \u001b[0me\u001b[0m\u001b[1;33m:\u001b[0m\u001b[1;33m\u001b[0m\u001b[1;33m\u001b[0m\u001b[0m\n\u001b[0;32m    442\u001b[0m                     \u001b[1;31m# Remove the TypeError from the exception chain in\u001b[0m\u001b[1;33m\u001b[0m\u001b[1;33m\u001b[0m\u001b[0m\n",
      "\u001b[1;32m~\\anaconda3\\lib\\http\\client.py\u001b[0m in \u001b[0;36mgetresponse\u001b[1;34m(self)\u001b[0m\n\u001b[0;32m   1369\u001b[0m         \u001b[1;32mtry\u001b[0m\u001b[1;33m:\u001b[0m\u001b[1;33m\u001b[0m\u001b[1;33m\u001b[0m\u001b[0m\n\u001b[0;32m   1370\u001b[0m             \u001b[1;32mtry\u001b[0m\u001b[1;33m:\u001b[0m\u001b[1;33m\u001b[0m\u001b[1;33m\u001b[0m\u001b[0m\n\u001b[1;32m-> 1371\u001b[1;33m                 \u001b[0mresponse\u001b[0m\u001b[1;33m.\u001b[0m\u001b[0mbegin\u001b[0m\u001b[1;33m(\u001b[0m\u001b[1;33m)\u001b[0m\u001b[1;33m\u001b[0m\u001b[1;33m\u001b[0m\u001b[0m\n\u001b[0m\u001b[0;32m   1372\u001b[0m             \u001b[1;32mexcept\u001b[0m \u001b[0mConnectionError\u001b[0m\u001b[1;33m:\u001b[0m\u001b[1;33m\u001b[0m\u001b[1;33m\u001b[0m\u001b[0m\n\u001b[0;32m   1373\u001b[0m                 \u001b[0mself\u001b[0m\u001b[1;33m.\u001b[0m\u001b[0mclose\u001b[0m\u001b[1;33m(\u001b[0m\u001b[1;33m)\u001b[0m\u001b[1;33m\u001b[0m\u001b[1;33m\u001b[0m\u001b[0m\n",
      "\u001b[1;32m~\\anaconda3\\lib\\http\\client.py\u001b[0m in \u001b[0;36mbegin\u001b[1;34m(self)\u001b[0m\n\u001b[0;32m    317\u001b[0m         \u001b[1;31m# read until we get a non-100 response\u001b[0m\u001b[1;33m\u001b[0m\u001b[1;33m\u001b[0m\u001b[0m\n\u001b[0;32m    318\u001b[0m         \u001b[1;32mwhile\u001b[0m \u001b[1;32mTrue\u001b[0m\u001b[1;33m:\u001b[0m\u001b[1;33m\u001b[0m\u001b[1;33m\u001b[0m\u001b[0m\n\u001b[1;32m--> 319\u001b[1;33m             \u001b[0mversion\u001b[0m\u001b[1;33m,\u001b[0m \u001b[0mstatus\u001b[0m\u001b[1;33m,\u001b[0m \u001b[0mreason\u001b[0m \u001b[1;33m=\u001b[0m \u001b[0mself\u001b[0m\u001b[1;33m.\u001b[0m\u001b[0m_read_status\u001b[0m\u001b[1;33m(\u001b[0m\u001b[1;33m)\u001b[0m\u001b[1;33m\u001b[0m\u001b[1;33m\u001b[0m\u001b[0m\n\u001b[0m\u001b[0;32m    320\u001b[0m             \u001b[1;32mif\u001b[0m \u001b[0mstatus\u001b[0m \u001b[1;33m!=\u001b[0m \u001b[0mCONTINUE\u001b[0m\u001b[1;33m:\u001b[0m\u001b[1;33m\u001b[0m\u001b[1;33m\u001b[0m\u001b[0m\n\u001b[0;32m    321\u001b[0m                 \u001b[1;32mbreak\u001b[0m\u001b[1;33m\u001b[0m\u001b[1;33m\u001b[0m\u001b[0m\n",
      "\u001b[1;32m~\\anaconda3\\lib\\http\\client.py\u001b[0m in \u001b[0;36m_read_status\u001b[1;34m(self)\u001b[0m\n\u001b[0;32m    278\u001b[0m \u001b[1;33m\u001b[0m\u001b[0m\n\u001b[0;32m    279\u001b[0m     \u001b[1;32mdef\u001b[0m \u001b[0m_read_status\u001b[0m\u001b[1;33m(\u001b[0m\u001b[0mself\u001b[0m\u001b[1;33m)\u001b[0m\u001b[1;33m:\u001b[0m\u001b[1;33m\u001b[0m\u001b[1;33m\u001b[0m\u001b[0m\n\u001b[1;32m--> 280\u001b[1;33m         \u001b[0mline\u001b[0m \u001b[1;33m=\u001b[0m \u001b[0mstr\u001b[0m\u001b[1;33m(\u001b[0m\u001b[0mself\u001b[0m\u001b[1;33m.\u001b[0m\u001b[0mfp\u001b[0m\u001b[1;33m.\u001b[0m\u001b[0mreadline\u001b[0m\u001b[1;33m(\u001b[0m\u001b[0m_MAXLINE\u001b[0m \u001b[1;33m+\u001b[0m \u001b[1;36m1\u001b[0m\u001b[1;33m)\u001b[0m\u001b[1;33m,\u001b[0m \u001b[1;34m\"iso-8859-1\"\u001b[0m\u001b[1;33m)\u001b[0m\u001b[1;33m\u001b[0m\u001b[1;33m\u001b[0m\u001b[0m\n\u001b[0m\u001b[0;32m    281\u001b[0m         \u001b[1;32mif\u001b[0m \u001b[0mlen\u001b[0m\u001b[1;33m(\u001b[0m\u001b[0mline\u001b[0m\u001b[1;33m)\u001b[0m \u001b[1;33m>\u001b[0m \u001b[0m_MAXLINE\u001b[0m\u001b[1;33m:\u001b[0m\u001b[1;33m\u001b[0m\u001b[1;33m\u001b[0m\u001b[0m\n\u001b[0;32m    282\u001b[0m             \u001b[1;32mraise\u001b[0m \u001b[0mLineTooLong\u001b[0m\u001b[1;33m(\u001b[0m\u001b[1;34m\"status line\"\u001b[0m\u001b[1;33m)\u001b[0m\u001b[1;33m\u001b[0m\u001b[1;33m\u001b[0m\u001b[0m\n",
      "\u001b[1;32m~\\anaconda3\\lib\\socket.py\u001b[0m in \u001b[0;36mreadinto\u001b[1;34m(self, b)\u001b[0m\n\u001b[0;32m    702\u001b[0m         \u001b[1;32mwhile\u001b[0m \u001b[1;32mTrue\u001b[0m\u001b[1;33m:\u001b[0m\u001b[1;33m\u001b[0m\u001b[1;33m\u001b[0m\u001b[0m\n\u001b[0;32m    703\u001b[0m             \u001b[1;32mtry\u001b[0m\u001b[1;33m:\u001b[0m\u001b[1;33m\u001b[0m\u001b[1;33m\u001b[0m\u001b[0m\n\u001b[1;32m--> 704\u001b[1;33m                 \u001b[1;32mreturn\u001b[0m \u001b[0mself\u001b[0m\u001b[1;33m.\u001b[0m\u001b[0m_sock\u001b[0m\u001b[1;33m.\u001b[0m\u001b[0mrecv_into\u001b[0m\u001b[1;33m(\u001b[0m\u001b[0mb\u001b[0m\u001b[1;33m)\u001b[0m\u001b[1;33m\u001b[0m\u001b[1;33m\u001b[0m\u001b[0m\n\u001b[0m\u001b[0;32m    705\u001b[0m             \u001b[1;32mexcept\u001b[0m \u001b[0mtimeout\u001b[0m\u001b[1;33m:\u001b[0m\u001b[1;33m\u001b[0m\u001b[1;33m\u001b[0m\u001b[0m\n\u001b[0;32m    706\u001b[0m                 \u001b[0mself\u001b[0m\u001b[1;33m.\u001b[0m\u001b[0m_timeout_occurred\u001b[0m \u001b[1;33m=\u001b[0m \u001b[1;32mTrue\u001b[0m\u001b[1;33m\u001b[0m\u001b[1;33m\u001b[0m\u001b[0m\n",
      "\u001b[1;31mKeyboardInterrupt\u001b[0m: "
     ]
    }
   ],
   "source": [
    "for j in range(len(states)):\n",
    "    print('----------',state_name[j],'----------')\n",
    "    hospitals = states[j]\n",
    "    hospitals = hospitals[hospitals['AMC_No'].notna()]\n",
    "    hospitals['AMC_No'] = hospitals[\"AMC_No\"].astype(int)\n",
    "    baseurl = 'https://freida.ama-assn.org/institution/'\n",
    "    URLS = []\n",
    "    for index, i in hospitals.iterrows():\n",
    "        if hospitals['AMC_No'][j] < 100000:\n",
    "#             print(hospitals['AMC_No'][j], ' is less than 100000.')\n",
    "            URLS.append(str(baseurl + '0' + str(i['AMC_No'])))\n",
    "#             print(URLS[j])\n",
    "        else:\n",
    "            URLS.append(str(baseurl + str(i['AMC_No'])))\n",
    "    hospitals['URLS'] = URLS\n",
    "#     print(len(hospitals), hospitals.head())\n",
    "    \n",
    "    mc = []\n",
    "    grad = []\n",
    "    mcl = []\n",
    "    add = []\n",
    "    d = driversetup()\n",
    "    for index, i in hospitals.iterrows():\n",
    "        url = i['URLS']\n",
    "        s = pagesource(url, d)\n",
    "        med_school = list(s.findAll('small', class_=\"bold\"))\n",
    "        address = list(s.findAll('div', class_=\"details__address ng-star-inserted\")) \n",
    "        if len(med_school) == 0:\n",
    "            mc.append(\"\")\n",
    "            mcl.append(\"\")\n",
    "            grad.append(\"\")\n",
    "        elif len(med_school) == 1:\n",
    "            a = list(s.findAll('div', class_=\"medical-schools__school ng-star-inserted\"))\n",
    "            name = a[0].findAll('small', class_='bold')[0].text\n",
    "            relationship = a[0].findAll('div', class_='')[0].text\n",
    "            if 'Limited' in relationship:\n",
    "                mcl.append(name)\n",
    "                mc.append(\"\")\n",
    "                grad.append(\"\")\n",
    "            elif 'Major' in relationship:\n",
    "                mc.append(name)\n",
    "                mcl.append(\"\")\n",
    "                grad.append(\"\")\n",
    "            elif 'Graduate' in relationship:\n",
    "                mc.append(\"\")\n",
    "                mcl.append(\"\")\n",
    "                grad.append(name)\n",
    "            else:\n",
    "                print(\"NEW RELATIONSHIP FOUND : \", name)\n",
    "                break\n",
    "        elif len(med_school) > 1:   \n",
    "            major = []\n",
    "            limited = []\n",
    "            graduate = []\n",
    "            a = list(s.findAll('div', class_=\"medical-schools__school ng-star-inserted\"))\n",
    "            for i in range(len(a)):\n",
    "                name = a[i].findAll('small', class_='bold')[0].text\n",
    "                relationship = a[i].findAll('div', class_='')[0].text\n",
    "                if 'Limited' in relationship:\n",
    "                    limited.append(name)\n",
    "                elif 'Graduate' in relationship:\n",
    "                    graduate.append(name)\n",
    "                elif 'Major' in relationship:\n",
    "                    major.append(name)\n",
    "                else:\n",
    "                    print(\"New relationship found\")\n",
    "                    break \n",
    "            if major == []:\n",
    "                major = ''\n",
    "            if limited == []:\n",
    "                limited = ''\n",
    "            if graduate == []:\n",
    "                graduate = ''\n",
    "            mc.append(major)\n",
    "            mcl.append(limited)\n",
    "            grad.append(graduate)\n",
    "        if len(address) != 0:\n",
    "            address[0].br.string = ', '\n",
    "            add.append(address[0].text)\n",
    "        else:\n",
    "            add.append(\"\")\n",
    "            print(index, 'mc', len(mc), mc[index], 'mcl', len(mcl), mcl[index], 'grad', len(grad), grad[index], 'add', len(add), add[index])\n",
    "        if len(mc) > (index+1):\n",
    "            break\n",
    "    \n",
    "    print(len(mc),len(mcl),len(grad),len(add))\n",
    "    hospitals['Affiliation_Major'] = mc\n",
    "    hospitals['Affiliation_Limited'] = mcl\n",
    "    hospitals['Affiliation_Graduate'] = grad\n",
    "    hospitals['Medical_Center_Address'] = add \n",
    "    Path(\"Crosswalk_data\").mkdir(parents=True, exist_ok=True)\n",
    "    filename = 'Crosswalk_data\\\\' + state_name[j] + '_crosswalk.csv'\n",
    "    hospitals.to_csv(filename)\n"
   ]
  },
  {
   "cell_type": "markdown",
   "id": "fcafa2c0",
   "metadata": {},
   "source": [
    "**NOTE:** The result data files generated for each state have already been created and stored in folder *CrosswalkData*, for more information on its location please refer documentation point 5.\n",
    "\n",
    "**NOTE:** The above cell output may show a *KeyboardInterrupt* error, this doesnot indicate any issues with the code, the run of the code was interrupted as the files have already been created hence omitting re-fetching of the files."
   ]
  },
  {
   "cell_type": "markdown",
   "id": "4708d4fc",
   "metadata": {},
   "source": [
    "### 5. Downloading bibliographic data of articles from PubMed"
   ]
  },
  {
   "cell_type": "code",
   "execution_count": 40,
   "id": "42eb9616",
   "metadata": {},
   "outputs": [
    {
     "name": "stdout",
     "output_type": "stream",
     "text": [
      "Requirement already satisfied: pymed in c:\\users\\lenovo\\anaconda3\\lib\\site-packages (0.8.9)\n",
      "Requirement already satisfied: requests>=2.20.0 in c:\\users\\lenovo\\anaconda3\\lib\\site-packages (from pymed) (2.26.0)\n",
      "Requirement already satisfied: idna<4,>=2.5 in c:\\users\\lenovo\\anaconda3\\lib\\site-packages (from requests>=2.20.0->pymed) (3.2)\n",
      "Requirement already satisfied: charset-normalizer~=2.0.0 in c:\\users\\lenovo\\anaconda3\\lib\\site-packages (from requests>=2.20.0->pymed) (2.0.4)\n",
      "Requirement already satisfied: urllib3<1.27,>=1.21.1 in c:\\users\\lenovo\\anaconda3\\lib\\site-packages (from requests>=2.20.0->pymed) (1.26.7)\n",
      "Requirement already satisfied: certifi>=2017.4.17 in c:\\users\\lenovo\\anaconda3\\lib\\site-packages (from requests>=2.20.0->pymed) (2021.10.8)\n"
     ]
    }
   ],
   "source": [
    "# Install and import pymed module\n",
    "!pip install pymed\n",
    "from pymed import PubMed"
   ]
  },
  {
   "cell_type": "markdown",
   "id": "097c1d92",
   "metadata": {},
   "source": [
    "**Note:** The below code may give a HTTP error (400, 429, etc). This is usually because of rare delayed response of API and query overload, in such a case kindly adjust the variable k as 1 more than the index of last csv completed, i.e. k equals the index of the university we want to start fetching data from. A sleep timer has been created after every iteration of the code to reduce the possibility of occurence of these errors.\n",
    "\n",
    "**NOTE:** Line 3 of this code requires the user to enter their email id for data fetch. (This doesn't require any user registration on any portal)\n",
    "\n",
    "**NOTE:** The below code requires to read files *universities.csv* and *journals.csv*, both the files are saved in folder PubmedRawData. Please refer to point 6 of documentation for further information on files' location.\n",
    "\n",
    "**NOTE:** The below code creates result files for each university it fetches data for, all those created result files are stored in *PubmedFinalData* folder. Please refer to point 7 of documentation for further information on files' location."
   ]
  },
  {
   "cell_type": "code",
   "execution_count": 44,
   "id": "62312bc2",
   "metadata": {},
   "outputs": [
    {
     "name": "stdout",
     "output_type": "stream",
     "text": [
      "0 UNIVERSITY OF ALABAMA AT BIRMINGHAM\n",
      "29  results appending to art dataframe UNIVERSITY OF ALABAMA AT BIRMINGHAM\n",
      "34  results appending to art dataframe UNIVERSITY OF ALABAMA AT BIRMINGHAM\n",
      "4  results appending to art dataframe UNIVERSITY OF ALABAMA AT BIRMINGHAM\n",
      "42  results appending to art dataframe UNIVERSITY OF ALABAMA AT BIRMINGHAM\n",
      "16  results appending to art dataframe UNIVERSITY OF ALABAMA AT BIRMINGHAM\n",
      "13  results appending to art dataframe UNIVERSITY OF ALABAMA AT BIRMINGHAM\n",
      "6  results appending to art dataframe UNIVERSITY OF ALABAMA AT BIRMINGHAM\n",
      "7  results appending to art dataframe UNIVERSITY OF ALABAMA AT BIRMINGHAM\n",
      "3  results appending to art dataframe UNIVERSITY OF ALABAMA AT BIRMINGHAM\n",
      "19  results appending to art dataframe UNIVERSITY OF ALABAMA AT BIRMINGHAM\n",
      "3  results appending to art dataframe UNIVERSITY OF ALABAMA AT BIRMINGHAM\n",
      "26  results appending to art dataframe UNIVERSITY OF ALABAMA AT BIRMINGHAM\n",
      "33  results appending to art dataframe UNIVERSITY OF ALABAMA AT BIRMINGHAM\n",
      "18  results appending to art dataframe UNIVERSITY OF ALABAMA AT BIRMINGHAM\n",
      "6  results appending to art dataframe UNIVERSITY OF ALABAMA AT BIRMINGHAM\n",
      "8  results appending to art dataframe UNIVERSITY OF ALABAMA AT BIRMINGHAM\n",
      "12  results appending to art dataframe UNIVERSITY OF ALABAMA AT BIRMINGHAM\n",
      "2  results appending to art dataframe UNIVERSITY OF ALABAMA AT BIRMINGHAM\n",
      "2  results appending to art dataframe UNIVERSITY OF ALABAMA AT BIRMINGHAM\n",
      "100  results appending to art dataframe UNIVERSITY OF ALABAMA AT BIRMINGHAM\n",
      "0  results appending to art dataframe UNIVERSITY OF ALABAMA AT BIRMINGHAM\n",
      "4  results appending to art dataframe UNIVERSITY OF ALABAMA AT BIRMINGHAM\n",
      "232  results appending to art dataframe UNIVERSITY OF ALABAMA AT BIRMINGHAM\n",
      "0  results appending to art dataframe UNIVERSITY OF ALABAMA AT BIRMINGHAM\n",
      "2  results appending to art dataframe UNIVERSITY OF ALABAMA AT BIRMINGHAM\n",
      "11  results appending to art dataframe UNIVERSITY OF ALABAMA AT BIRMINGHAM\n",
      "6  results appending to art dataframe UNIVERSITY OF ALABAMA AT BIRMINGHAM\n",
      "3  results appending to art dataframe UNIVERSITY OF ALABAMA AT BIRMINGHAM\n",
      "5  results appending to art dataframe UNIVERSITY OF ALABAMA AT BIRMINGHAM\n",
      "size_of_temp 646\n",
      "1 UNIVERSITY OF SOUTH ALABAMA\n",
      "1  results appending to art dataframe UNIVERSITY OF SOUTH ALABAMA\n"
     ]
    },
    {
     "ename": "HTTPError",
     "evalue": "400 Client Error: Bad Request for url: https://eutils.ncbi.nlm.nih.gov/entrez/eutils/efetch.fcgi?tool=MyTool&email=bkkashyapbhavya97%40gmail.com&db=pubmed&id=19010527&retmode=xml",
     "output_type": "error",
     "traceback": [
      "\u001b[1;31m---------------------------------------------------------------------------\u001b[0m",
      "\u001b[1;31mHTTPError\u001b[0m                                 Traceback (most recent call last)",
      "\u001b[1;32m~\\AppData\\Local\\Temp/ipykernel_9164/664165001.py\u001b[0m in \u001b[0;36m<module>\u001b[1;34m\u001b[0m\n\u001b[0;32m     27\u001b[0m         \u001b[1;31m# no more than 3 requests in a second\u001b[0m\u001b[1;33m\u001b[0m\u001b[1;33m\u001b[0m\u001b[0m\n\u001b[0;32m     28\u001b[0m         \u001b[0mtime\u001b[0m\u001b[1;33m.\u001b[0m\u001b[0msleep\u001b[0m\u001b[1;33m(\u001b[0m\u001b[1;36m0.5\u001b[0m\u001b[1;33m)\u001b[0m\u001b[1;33m\u001b[0m\u001b[1;33m\u001b[0m\u001b[0m\n\u001b[1;32m---> 29\u001b[1;33m         \u001b[0mresults\u001b[0m \u001b[1;33m=\u001b[0m \u001b[0mlist\u001b[0m\u001b[1;33m(\u001b[0m\u001b[0mpubmed\u001b[0m\u001b[1;33m.\u001b[0m\u001b[0mquery\u001b[0m\u001b[1;33m(\u001b[0m\u001b[0mquery\u001b[0m\u001b[1;33m,\u001b[0m \u001b[0mmax_results\u001b[0m\u001b[1;33m=\u001b[0m\u001b[1;36m50000\u001b[0m\u001b[1;33m)\u001b[0m\u001b[1;33m)\u001b[0m\u001b[1;33m\u001b[0m\u001b[1;33m\u001b[0m\u001b[0m\n\u001b[0m\u001b[0;32m     30\u001b[0m \u001b[1;33m\u001b[0m\u001b[0m\n\u001b[0;32m     31\u001b[0m         \u001b[1;31m# article_dict = {}\u001b[0m\u001b[1;33m\u001b[0m\u001b[1;33m\u001b[0m\u001b[0m\n",
      "\u001b[1;32m~\\anaconda3\\lib\\site-packages\\pymed\\api.py\u001b[0m in \u001b[0;36m_getArticles\u001b[1;34m(self, article_ids)\u001b[0m\n\u001b[0;32m    167\u001b[0m \u001b[1;33m\u001b[0m\u001b[0m\n\u001b[0;32m    168\u001b[0m         \u001b[1;31m# Make the request\u001b[0m\u001b[1;33m\u001b[0m\u001b[1;33m\u001b[0m\u001b[0m\n\u001b[1;32m--> 169\u001b[1;33m         response = self._get(\n\u001b[0m\u001b[0;32m    170\u001b[0m             \u001b[0murl\u001b[0m\u001b[1;33m=\u001b[0m\u001b[1;34m\"/entrez/eutils/efetch.fcgi\"\u001b[0m\u001b[1;33m,\u001b[0m \u001b[0mparameters\u001b[0m\u001b[1;33m=\u001b[0m\u001b[0mparameters\u001b[0m\u001b[1;33m,\u001b[0m \u001b[0moutput\u001b[0m\u001b[1;33m=\u001b[0m\u001b[1;34m\"xml\"\u001b[0m\u001b[1;33m\u001b[0m\u001b[1;33m\u001b[0m\u001b[0m\n\u001b[0;32m    171\u001b[0m         )\n",
      "\u001b[1;32m~\\anaconda3\\lib\\site-packages\\pymed\\api.py\u001b[0m in \u001b[0;36m_get\u001b[1;34m(self, url, parameters, output)\u001b[0m\n\u001b[0;32m    141\u001b[0m \u001b[1;33m\u001b[0m\u001b[0m\n\u001b[0;32m    142\u001b[0m         \u001b[1;31m# Check for any errors\u001b[0m\u001b[1;33m\u001b[0m\u001b[1;33m\u001b[0m\u001b[0m\n\u001b[1;32m--> 143\u001b[1;33m         \u001b[0mresponse\u001b[0m\u001b[1;33m.\u001b[0m\u001b[0mraise_for_status\u001b[0m\u001b[1;33m(\u001b[0m\u001b[1;33m)\u001b[0m\u001b[1;33m\u001b[0m\u001b[1;33m\u001b[0m\u001b[0m\n\u001b[0m\u001b[0;32m    144\u001b[0m \u001b[1;33m\u001b[0m\u001b[0m\n\u001b[0;32m    145\u001b[0m         \u001b[1;31m# Add this request to the list of requests made\u001b[0m\u001b[1;33m\u001b[0m\u001b[1;33m\u001b[0m\u001b[0m\n",
      "\u001b[1;32m~\\anaconda3\\lib\\site-packages\\requests\\models.py\u001b[0m in \u001b[0;36mraise_for_status\u001b[1;34m(self)\u001b[0m\n\u001b[0;32m    951\u001b[0m \u001b[1;33m\u001b[0m\u001b[0m\n\u001b[0;32m    952\u001b[0m         \u001b[1;32mif\u001b[0m \u001b[0mhttp_error_msg\u001b[0m\u001b[1;33m:\u001b[0m\u001b[1;33m\u001b[0m\u001b[1;33m\u001b[0m\u001b[0m\n\u001b[1;32m--> 953\u001b[1;33m             \u001b[1;32mraise\u001b[0m \u001b[0mHTTPError\u001b[0m\u001b[1;33m(\u001b[0m\u001b[0mhttp_error_msg\u001b[0m\u001b[1;33m,\u001b[0m \u001b[0mresponse\u001b[0m\u001b[1;33m=\u001b[0m\u001b[0mself\u001b[0m\u001b[1;33m)\u001b[0m\u001b[1;33m\u001b[0m\u001b[1;33m\u001b[0m\u001b[0m\n\u001b[0m\u001b[0;32m    954\u001b[0m \u001b[1;33m\u001b[0m\u001b[0m\n\u001b[0;32m    955\u001b[0m     \u001b[1;32mdef\u001b[0m \u001b[0mclose\u001b[0m\u001b[1;33m(\u001b[0m\u001b[0mself\u001b[0m\u001b[1;33m)\u001b[0m\u001b[1;33m:\u001b[0m\u001b[1;33m\u001b[0m\u001b[1;33m\u001b[0m\u001b[0m\n",
      "\u001b[1;31mHTTPError\u001b[0m: 400 Client Error: Bad Request for url: https://eutils.ncbi.nlm.nih.gov/entrez/eutils/efetch.fcgi?tool=MyTool&email=bkkashyapbhavya97%40gmail.com&db=pubmed&id=19010527&retmode=xml"
     ]
    }
   ],
   "source": [
    "# Pymed\n",
    "# Insert your email id in the field given below\n",
    "pubmed = PubMed(tool=\"MyTool\", email=\"----insert-your-email----\")\n",
    "\n",
    "# import the US AMC University List data\n",
    "u = pd.read_csv('PubmedRawData/universities.csv')\n",
    "\n",
    "# Date attributes in query\n",
    "date = '(\"2000/01/01\"[Date - Publication] : \"2014/12/31\"[Date - Publication])'\n",
    "journals = pd.read_csv('PubmedRawData/journals.csv')\n",
    "\n",
    "# initialize a dataframe : \n",
    "art = pd.DataFrame()\n",
    "\n",
    "# query and fetch data for each university out of the listed universities\n",
    "k = 0\n",
    "while k < len(u):\n",
    "    temp = pd.DataFrame() \n",
    "    print(k, u.Universities[k].upper())\n",
    "    y = 0\n",
    "  \n",
    "    while y < 141:\n",
    "        # extracting for 5 journals at a time to decrease the number of queries and hence iterations\n",
    "        journal_query = '('\n",
    "        journal_query += '(' + str(journals.Title[y]).upper() + '[JOURNAL])' + ' OR ' + '(' + str(journals.Title[y+1]).upper() + '[JOURNAL])' + ' OR ' + '(' + str(journals.Title[y+2]).upper() + '[JOURNAL])' + ' OR ' + '(' + str(journals.Title[y+3]).upper() + '[JOURNAL])' + ' OR ' + '(' + str(journals.Title[y+4]).upper() + '[JOURNAL])' + ' OR '\n",
    "        query = journal_query[:-4] +') AND ' + date + ' AND ('+ u.Universities[k].upper() + '[AFFILIATION])'\n",
    "        # no more than 3 requests in a second\n",
    "        time.sl1)\n",
    "        results = list(pubmed.query(query, max_results=50000))\n",
    "\n",
    "        # article_dict = {}\n",
    "        article_dict_list = []\n",
    "\n",
    "        # Loop over the retrieved articles\n",
    "        for i, article in enumerate(results):\n",
    "            article_dict = {}\n",
    "            if not article.abstract:\n",
    "                pass \n",
    "            else:\n",
    "                article_dict['Abstract'] = article.abstract\n",
    "                try:\n",
    "                    article_dict[\"Conclusions\"]= article.conclusions\n",
    "                except:\n",
    "                    article_dict[\"Conclusions\"]= 'None'\n",
    "                article_dict[\"Copyrights\"] = article.copyrights\n",
    "                article_dict[\"DOI\"] = article.doi\n",
    "                try:\n",
    "                    article_dict[\"Journal\"] = article.journal\n",
    "                except:\n",
    "                    article_dict[\"Journal\"] ='None'\n",
    "                try:\n",
    "                    article_dict[\"Methods\"] = article.methods\n",
    "                except:\n",
    "                    article_dict[\"Methods\"]='None'\n",
    "                article_dict[\"Publication_date\"] = article.publication_date\n",
    "                article_dict[\"PubmedID\"]= article.pubmed_id\n",
    "                try:\n",
    "                    article_dict[\"Results\"]=article.results\n",
    "                except:\n",
    "                    article_dict[\"Results\"]='None'\n",
    "                article_dict[\"Title\"] = article.title\n",
    "                try:\n",
    "                    article_dict[\"Keywords\"] = '; '.join(article.keywords) \n",
    "                except:\n",
    "                    article_dict[\"Keywords\"] = \"None\"\n",
    "                authors = []\n",
    "                affils = []\n",
    "                for a,author in enumerate(article.authors):\n",
    "                    # print(article.authors)\n",
    "                    auth = []\n",
    "                    auth.append(author['lastname'])\n",
    "                    auth.append(author['firstname'])\n",
    "                    auth.append(author['initials'])\n",
    "                    author_name = ', '.join(str(x) for x in auth)\n",
    "                    authors.append(author_name)\n",
    "\n",
    "                    try:\n",
    "                        if author['affiliation']!= None:\n",
    "                            affils.append(author['affiliation'])\n",
    "                        else:\n",
    "                            affils.append('None')\n",
    "                    except:\n",
    "                        affils.append('None')\n",
    "\n",
    "\n",
    "                article_dict[\"Authors\"] = '; '.join(authors) \n",
    "                article_dict[\"Affiliations\"] = '; '.join(affils) \n",
    "                article_dict_list.append(article_dict)\n",
    "        y = y + 5\n",
    "#         print(len(article_dict_list), ' results appending to art dataframe', u.Universities[k].upper())\n",
    "        temp = pd.concat([temp, pd.DataFrame(article_dict_list)])\n",
    "    art = pd.concat([art, temp])\n",
    "    print('-----> File created for ', u.Universities[k].upper()) \n",
    "    if temp.empty:\n",
    "        print('Dataframe is empty')\n",
    "    else:\n",
    "        temp.drop_duplicates(subset=['Title', 'Abstract'], inplace=True)\n",
    "        Path(\"PubmedFinaldata\").mkdir(parents=True, exist_ok=True)\n",
    "        filename = 'PubmedFinaldata\\\\{0}_FULLRECORD.CSV'.format(u.Universities[k].upper())\n",
    "        temp.to_csv(filename, index=False)\n",
    "    k = k + 1\n",
    "    time.sleep(10)"
   ]
  },
  {
   "cell_type": "markdown",
   "id": "3a61d6b6",
   "metadata": {},
   "source": [
    "**NOTE:** The above cell output may show a *KeyboardInterrupt* error, this doesnot indicate any issues with the code, the run of the code was interrupted as the files have already been created hence omitting re-fetching of the files."
   ]
  }
 ],
 "metadata": {
  "kernelspec": {
   "display_name": "Python 3 (ipykernel)",
   "language": "python",
   "name": "python3"
  },
  "language_info": {
   "codemirror_mode": {
    "name": "ipython",
    "version": 3
   },
   "file_extension": ".py",
   "mimetype": "text/x-python",
   "name": "python",
   "nbconvert_exporter": "python",
   "pygments_lexer": "ipython3",
   "version": "3.9.7"
  }
 },
 "nbformat": 4,
 "nbformat_minor": 5
}
