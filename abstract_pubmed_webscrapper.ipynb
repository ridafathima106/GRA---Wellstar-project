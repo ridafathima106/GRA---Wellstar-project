{
 "cells": [
  {
   "cell_type": "code",
   "execution_count": 2,
   "id": "XoBK_wpnJQJB",
   "metadata": {
    "colab": {
     "base_uri": "https://localhost:8080/"
    },
    "id": "XoBK_wpnJQJB",
    "outputId": "f621310e-0b12-4164-d610-96b3a495cf21"
   },
   "outputs": [
    {
     "name": "stderr",
     "output_type": "stream",
     "text": [
      "'apt' is not recognized as an internal or external command,\n",
      "operable program or batch file.\n",
      "'apt' is not recognized as an internal or external command,\n",
      "operable program or batch file.\n"
     ]
    },
    {
     "name": "stdout",
     "output_type": "stream",
     "text": [
      "Collecting pymed\n",
      "  Downloading pymed-0.8.9-py3-none-any.whl (9.6 kB)\n",
      "Requirement already satisfied: requests>=2.20.0 in c:\\users\\rida\\anaconda3\\lib\\site-packages (from pymed) (2.27.1)\n",
      "Requirement already satisfied: urllib3<1.27,>=1.21.1 in c:\\users\\rida\\anaconda3\\lib\\site-packages (from requests>=2.20.0->pymed) (1.26.9)\n",
      "Requirement already satisfied: certifi>=2017.4.17 in c:\\users\\rida\\anaconda3\\lib\\site-packages (from requests>=2.20.0->pymed) (2021.10.8)\n",
      "Requirement already satisfied: charset-normalizer~=2.0.0 in c:\\users\\rida\\anaconda3\\lib\\site-packages (from requests>=2.20.0->pymed) (2.0.4)\n",
      "Requirement already satisfied: idna<4,>=2.5 in c:\\users\\rida\\anaconda3\\lib\\site-packages (from requests>=2.20.0->pymed) (3.3)\n",
      "Installing collected packages: pymed\n",
      "Successfully installed pymed-0.8.9\n"
     ]
    }
   ],
   "source": [
    "!apt update\n",
    "!apt install chromium-chromedriver\n",
    "!pip install pymed"
   ]
  },
  {
   "cell_type": "code",
   "execution_count": 3,
   "id": "11409abe",
   "metadata": {
    "id": "11409abe"
   },
   "outputs": [],
   "source": [
    "import pandas as pd\n",
    "import numpy as np\n",
    "from pymed import PubMed\n",
    "import math"
   ]
  },
  {
   "cell_type": "code",
   "execution_count": 9,
   "id": "6179d0be",
   "metadata": {},
   "outputs": [
    {
     "data": {
      "text/html": [
       "<div>\n",
       "<style scoped>\n",
       "    .dataframe tbody tr th:only-of-type {\n",
       "        vertical-align: middle;\n",
       "    }\n",
       "\n",
       "    .dataframe tbody tr th {\n",
       "        vertical-align: top;\n",
       "    }\n",
       "\n",
       "    .dataframe thead th {\n",
       "        text-align: right;\n",
       "    }\n",
       "</style>\n",
       "<table border=\"1\" class=\"dataframe\">\n",
       "  <thead>\n",
       "    <tr style=\"text-align: right;\">\n",
       "      <th></th>\n",
       "    </tr>\n",
       "  </thead>\n",
       "  <tbody>\n",
       "  </tbody>\n",
       "</table>\n",
       "</div>"
      ],
      "text/plain": [
       "Empty DataFrame\n",
       "Columns: []\n",
       "Index: []"
      ]
     },
     "execution_count": 9,
     "metadata": {},
     "output_type": "execute_result"
    }
   ],
   "source": [
    "pubmed = PubMed(tool=\"MyTool\")\n",
    "\n",
    "# import the US AMC University List data\n",
    "u1 = pd.read_excel('US AMC University List.xlsx', sheet_name='Full University List')\n",
    "u2 = pd.read_excel('US AMC University List.xlsx', sheet_name='AL-MO')\n",
    "u3 = pd.read_excel('US AMC University List.xlsx', sheet_name='NE-WA')\n",
    "u4 = pd.read_excel('US AMC University List.xlsx', sheet_name='NY-NC-PA-TN-TX')\n",
    "u = pd.concat([u1, u2, u3, u4], axis=0).dropna().rename(columns = {'Unnamed: 0' : 'Universities'}).drop_duplicates(subset=['Universities']).reset_index()\n",
    "\n",
    "# Date attributes in query\n",
    "date = '(\"2000/01/01\"[Date - Publication] : \"2014/12/31\"[Date - Publication])'\n",
    "journals = pd.read_csv('journals.csv')\n",
    "\n",
    "# initialize a dataframe : \n",
    "art = pd.DataFrame()\n",
    "art"
   ]
  },
  {
   "cell_type": "code",
   "execution_count": 26,
   "id": "af49a1c5",
   "metadata": {
    "scrolled": true
   },
   "outputs": [
    {
     "data": {
      "text/html": [
       "<div>\n",
       "<style scoped>\n",
       "    .dataframe tbody tr th:only-of-type {\n",
       "        vertical-align: middle;\n",
       "    }\n",
       "\n",
       "    .dataframe tbody tr th {\n",
       "        vertical-align: top;\n",
       "    }\n",
       "\n",
       "    .dataframe thead th {\n",
       "        text-align: right;\n",
       "    }\n",
       "</style>\n",
       "<table border=\"1\" class=\"dataframe\">\n",
       "  <thead>\n",
       "    <tr style=\"text-align: right;\">\n",
       "      <th></th>\n",
       "      <th>index</th>\n",
       "      <th>University Name</th>\n",
       "      <th>Universities</th>\n",
       "      <th>Unnamed: 1</th>\n",
       "    </tr>\n",
       "  </thead>\n",
       "  <tbody>\n",
       "  </tbody>\n",
       "</table>\n",
       "</div>"
      ],
      "text/plain": [
       "Empty DataFrame\n",
       "Columns: [index, University Name, Universities, Unnamed: 1]\n",
       "Index: []"
      ]
     },
     "execution_count": 26,
     "metadata": {},
     "output_type": "execute_result"
    }
   ],
   "source": [
    "u1 = pd.read_excel('US AMC University List.xlsx', sheet_name='Full University List')\n",
    "u2 = pd.read_excel('US AMC University List.xlsx', sheet_name='AL-MO')\n",
    "u3 = pd.read_excel('US AMC University List.xlsx', sheet_name='NE-WA')\n",
    "u4 = pd.read_excel('US AMC University List.xlsx', sheet_name='NY-NC-PA-TN-TX')\n",
    "u = pd.concat([u1, u2, u3, u4], axis=0) .dropna().rename(columns = {'Unnamed: 0' : 'Universities'}).drop_duplicates(subset=['Universities']).reset_index()\n",
    "\n",
    "u"
   ]
  },
  {
   "cell_type": "code",
   "execution_count": 27,
   "id": "2AxjBX_8izMg",
   "metadata": {
    "colab": {
     "base_uri": "https://localhost:8080/",
     "height": 1000
    },
    "id": "2AxjBX_8izMg",
    "outputId": "f2efa1e3-558d-4a86-8ec2-679fe7d9ea83"
   },
   "outputs": [],
   "source": [
    "# Pymed\n",
    "pubmed = PubMed(tool=\"MyTool\")\n",
    "\n",
    "# import the US AMC University List data\n",
    "u1 = pd.read_excel('US AMC University List.xlsx', sheet_name='Full University List')\n",
    "u2 = pd.read_excel('US AMC University List.xlsx', sheet_name='AL-MO')\n",
    "u3 = pd.read_excel('US AMC University List.xlsx', sheet_name='NE-WA')\n",
    "u4 = pd.read_excel('US AMC University List.xlsx', sheet_name='NY-NC-PA-TN-TX')\n",
    "u = pd.concat([u1, u2, u3, u4], axis=0).dropna().rename(columns = {'Unnamed: 0' : 'Universities'}).drop_duplicates(subset=['Universities']).reset_index()\n",
    "\n",
    "# Date attributes in query\n",
    "date = '(\"2000/01/01\"[Date - Publication] : \"2014/12/31\"[Date - Publication])'\n",
    "journals = pd.read_csv('journals.csv')\n",
    "\n",
    "# initialize a dataframe : \n",
    "art = pd.DataFrame()\n",
    "\n",
    "# query and fetch data for each journal out of the selected 145 journals\n",
    "k = 101\n",
    "while k < len(u):\n",
    "  temp = pd.DataFrame() \n",
    "  print(k,'-----', u.Universities[k].upper(),'-----')\n",
    "  y = 0\n",
    "  \n",
    "  while y < 141:\n",
    "    # for c in range(y,y+5):\n",
    "    journal_query = '('\n",
    "    journal_query += '(' + str(journals.Title[y]).upper() + '[JOURNAL])' + ' OR ' + '(' + str(journals.Title[y+1]).upper() + '[JOURNAL])' + ' OR ' + '(' + str(journals.Title[y+2]).upper() + '[JOURNAL])' + ' OR ' + '(' + str(journals.Title[y+3]).upper() + '[JOURNAL])' + ' OR ' + '(' + str(journals.Title[y+4]).upper() + '[JOURNAL])' + ' OR '\n",
    "    query = journal_query[:-4] +') AND ' + date + ' AND ('+ u.Universities[k].upper() + '[AFFILIATION])'\n",
    "    print(y, query)\n",
    "    # no more than 3 requests in a second\n",
    "    time.sleep(0.4)\n",
    "    results = list(pubmed.query(query, max_results=50000))\n",
    "    \n",
    "    # article_dict = {}\n",
    "    article_dict_list = []\n",
    "\n",
    "    # Loop over the retrieved articles\n",
    "    for i, article in enumerate(results):\n",
    "        article_dict = {}\n",
    "        if not article.abstract:\n",
    "            pass \n",
    "        else:\n",
    "            article_dict['Abstract'] = article.abstract\n",
    "            try:\n",
    "                article_dict[\"Conclusions\"]= article.conclusions\n",
    "            except:\n",
    "                article_dict[\"Conclusions\"]= 'None'\n",
    "            article_dict[\"Copyrights\"] = article.copyrights\n",
    "            article_dict[\"DOI\"] = article.doi\n",
    "            try:\n",
    "                article_dict[\"Journal\"] = article.journal\n",
    "            except:\n",
    "                article_dict[\"Journal\"] ='None'\n",
    "            try:\n",
    "                article_dict[\"Methods\"] = article.methods\n",
    "            except:\n",
    "                article_dict[\"Methods\"]='None'\n",
    "            article_dict[\"Publication_date\"] = article.publication_date\n",
    "            article_dict[\"PubmedID\"]= article.pubmed_id\n",
    "            try:\n",
    "                article_dict[\"Results\"]=article.results\n",
    "            except:\n",
    "                article_dict[\"Results\"]='None'\n",
    "            article_dict[\"Title\"] = article.title\n",
    "            try:\n",
    "                article_dict[\"Keywords\"] = '; '.join(article.keywords) \n",
    "            except:\n",
    "                article_dict[\"Keywords\"] = \"None\"\n",
    "            authors = []\n",
    "            affils = []\n",
    "            for a,author in enumerate(article.authors):\n",
    "                # print(article.authors)\n",
    "                auth = []\n",
    "                auth.append(author['lastname'])\n",
    "                auth.append(author['firstname'])\n",
    "                auth.append(author['initials'])\n",
    "                author_name = ', '.join(str(x) for x in auth)\n",
    "                authors.append(author_name)\n",
    "\n",
    "                try:\n",
    "                    if author['affiliation']!= None:\n",
    "                        affils.append(author['affiliation'])\n",
    "                    else:\n",
    "                        affils.append('None')\n",
    "                except:\n",
    "                    affils.append('None')\n",
    "\n",
    "\n",
    "            article_dict[\"Authors\"] = '; '.join(authors) \n",
    "            article_dict[\"Affiliations\"] = '; '.join(affils) \n",
    "            article_dict_list.append(article_dict)\n",
    "            y = y + 5\n",
    "    print(len(article_dict_list), ' results appending to art dataframe', u.Universities[k].upper())\n",
    "    temp = pd.concat([temp, pd.DataFrame(article_dict_list)])\n",
    "  art = pd.concat([art, temp])\n",
    "  print('size_of_temp', len(temp)) \n",
    "  if temp.empty:\n",
    "    print('Dataframe is empty')\n",
    "  else:\n",
    "    temp.drop_duplicates(subset=['Title', 'Abstract'], inplace=True)\n",
    "    filename = \"{0}_FullRecord.csv\".format(u.Universities[k].upper())\n",
    "    temp.to_csv(filename, index=False)\n",
    "    files.download(filename)\n",
    "    time.sleep(5)\n",
    "  k = k + 1\n",
    "\n",
    "\n",
    "\n"
   ]
  },
  {
   "cell_type": "code",
   "execution_count": 11,
   "id": "3sJ2n-BF_9vJ",
   "metadata": {
    "colab": {
     "base_uri": "https://localhost:8080/"
    },
    "id": "3sJ2n-BF_9vJ",
    "outputId": "5e2346fb-7eb0-45ec-87f2-58a82686388b"
   },
   "outputs": [
    {
     "ename": "NameError",
     "evalue": "name 'temp' is not defined",
     "output_type": "error",
     "traceback": [
      "\u001b[1;31m---------------------------------------------------------------------------\u001b[0m",
      "\u001b[1;31mNameError\u001b[0m                                 Traceback (most recent call last)",
      "Input \u001b[1;32mIn [11]\u001b[0m, in \u001b[0;36m<cell line: 1>\u001b[1;34m()\u001b[0m\n\u001b[1;32m----> 1\u001b[0m \u001b[38;5;28mprint\u001b[39m(\u001b[38;5;28mlen\u001b[39m(art), \u001b[38;5;28mlen\u001b[39m(\u001b[43mtemp\u001b[49m))\n",
      "\u001b[1;31mNameError\u001b[0m: name 'temp' is not defined"
     ]
    }
   ],
   "source": [
    "print(len(art), len(temp))"
   ]
  },
  {
   "cell_type": "code",
   "execution_count": null,
   "id": "5dzOVGd7b5dY",
   "metadata": {
    "id": "5dzOVGd7b5dY"
   },
   "outputs": [],
   "source": [
    "u.head(10)"
   ]
  }
 ],
 "metadata": {
  "colab": {
   "provenance": []
  },
  "kernelspec": {
   "display_name": "Python 3 (ipykernel)",
   "language": "python",
   "name": "python3"
  },
  "language_info": {
   "codemirror_mode": {
    "name": "ipython",
    "version": 3
   },
   "file_extension": ".py",
   "mimetype": "text/x-python",
   "name": "python",
   "nbconvert_exporter": "python",
   "pygments_lexer": "ipython3",
   "version": "3.9.12"
  }
 },
 "nbformat": 4,
 "nbformat_minor": 5
}
